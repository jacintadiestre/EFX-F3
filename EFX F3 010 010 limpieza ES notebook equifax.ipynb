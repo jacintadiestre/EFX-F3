{
 "cells": [
  {
   "cell_type": "markdown",
   "id": "724d059b",
   "metadata": {
    "id": "724d059b"
   },
   "source": [
    "## Projecto: Condiciones financieras en base microdatos (EFX F3)\n",
    "#### Objetivo:\t\tLimpieza inicial base\n",
    "#### Fecha modificación: 14/11/2022\t\n",
    "#### Autor:\t\t\tJacinta Diestre\n",
    "#### Contacto:\t\tjacinta.diestre@gmail.com\n"
   ]
  },
  {
   "cell_type": "markdown",
   "id": "8759dcb2",
   "metadata": {
    "id": "8759dcb2"
   },
   "source": [
    "#### Notas generales\n",
    "* En este notebook realizamos la limpieza de la base de microdatos que utilizaremos para realiazar el análisis de condiciones financieras.\n",
    "* Se abordan problemas de formato, duplicados, junto con definir la estructura de los créditos decrecientes.\n",
    "* <div class=\"alert-info\">\n",
    "Las preguntas para Equifax, irán destacadas con celeste.\n",
    "</div>\n",
    "* <div class=\"alert-success\">\n",
    "Y el espacio de respuestas con verde\n",
    "</div>"
   ]
  },
  {
   "cell_type": "markdown",
   "id": "41f17d89",
   "metadata": {
    "id": "41f17d89"
   },
   "source": [
    "### índice Notebook\n",
    "#### 1. Fija directorios\n",
    "- 1.1 Global países \n",
    "- 1.2 Directorio usuario\n",
    "   \n",
    "#### 2. Limpieza de base\n",
    "- 2.1 Base inicial (raw)\n",
    "- 2.2 Revisión tipo de datos y cantidad de observaciones\n",
    "- 2.3 Revisión Nulos\n",
    "- 2.4 Revisión Duplicados\n",
    "- 2.5 Archivo datos duplicados eliminados\n",
    "- 2.6 Revisión periodos de información duplicados en un ID\n",
    "- 2.7 Archivo periodos de información duplicados en un ID\n",
    "   \n",
    "#### 3. Base crédito Decreciente de personas juridicas\n",
    "- 3.1 Selección de observaciones\n",
    "- 3.2 Selección variables de interés\n",
    "- 3.3 Arreglo variables de fechas %td\n",
    "- 3.3 Base créditos decrecientes personas jurídicas\n",
    "   \n",
    "#### 4. Revisión créditos Decrecientes por identificador único\n",
    "- 4.1 Plazo del crédito\n",
    "     - 4.1.1 Plazos nulos o iguales a 0\n",
    "     - 4.1.2 Meses entre la fecha de otorgamiento y vencimiento.\n",
    "     - 4.1.3 Cuenta_meses negativos, ceros o menores a 1 mes.\n",
    "     - 4.1.4 Comparación plazo y cuenta_meses\n",
    "\t - 4.1.5 Variación plazo en ID_UNICO_CRED_str\n",
    "     - 4.1.6 Archivo problemas con las fechas y plazo\n",
    "- 4.2 Monto del crédito\n",
    "     - 4.2.1 Montos nulos o iguales a 0\n",
    "     - 4.2.2 Variación monto en ID_UNICO_CRED_str\n",
    "\t - 4.2.3 Monto que pasa a cero\n",
    "     - 4.2.4 Archivo problemas con monto\n",
    "- 4.3 Cuota del crédito\n",
    "     - 4.3.1 Cuotas nulas o iguales a 0\n",
    "     - 4.3.2 Variación cuota en ID_UNICO_CRED_str\n",
    "     - 4.3.3 Archivo problemas cuota\n",
    "\t \n",
    "#### 5.Revisión Fechas de otorgamiento y vencimiento \n",
    "  - 5.1 Fecha de otorgamiento y vencimiento nulas \n",
    "  - 5.2 Periodos fecha de otorgamiento\n",
    "  - 5.3 Fecha de otorgamiento Antiguas"
   ]
  },
  {
   "cell_type": "markdown",
   "id": "9f8054c6",
   "metadata": {
    "id": "9f8054c6"
   },
   "source": [
    "### 0. Comienza el script\n",
    "- Aquí se importan los comandos que van a utilizar. \n",
    "- En caso de no tenerlos instalados hay que correr los siguientes comandos\n",
    "-- pip install pandas"
   ]
  },
  {
   "cell_type": "code",
   "execution_count": 1,
   "id": "0bca7976",
   "metadata": {
    "executionInfo": {
     "elapsed": 503,
     "status": "ok",
     "timestamp": 1668531943567,
     "user": {
      "displayName": "Jacinta Diestre",
      "userId": "14747044798825290783"
     },
     "user_tz": 180
    },
    "id": "0bca7976"
   },
   "outputs": [],
   "source": [
    "import pandas as pd\n",
    "import numpy as np\n",
    "from datetime import datetime\n",
    "import warnings\n",
    "import seaborn as sns\n",
    "import matplotlib.pyplot as plt \n",
    "warnings.filterwarnings(\"ignore\")"
   ]
  },
  {
   "cell_type": "markdown",
   "id": "f6b462f8",
   "metadata": {
    "id": "f6b462f8"
   },
   "source": [
    "#### 1. Fija directorios\n",
    "- 1.1 Global países\n",
    "-- Para asignar la global de pais eliminar el signo gato del principio.\n",
    "Hay que dejar un sólo país, si queda más de uno sin comentar, entonces la global toma el último valor asignado. \n"
   ]
  },
  {
   "cell_type": "code",
   "execution_count": 2,
   "id": "53bb7354",
   "metadata": {
    "executionInfo": {
     "elapsed": 1,
     "status": "ok",
     "timestamp": 1668531944018,
     "user": {
      "displayName": "Jacinta Diestre",
      "userId": "14747044798825290783"
     },
     "user_tz": 180
    },
    "id": "53bb7354"
   },
   "outputs": [],
   "source": [
    "global pais\n",
    "# pais = \"AR\"\n",
    "# pais = \"CH\"\n",
    "# pais = \"CR\"\n",
    "# pais = \"EC\"\n",
    "pais = \"ES\"\n",
    "# pais = \"HO\"\n",
    "# pais = \"PE\"\n",
    "# pais = \"PR\"\n",
    "# pais = \"UR\" "
   ]
  },
  {
   "cell_type": "markdown",
   "id": "b7066524",
   "metadata": {
    "id": "b7066524"
   },
   "source": [
    "- 1.2 Directorio usuario\n",
    "- Asignar el directorio del usuario que está utilizando el notebook.\n",
    "- Revisar directorio para One Drive: /Users/jacinta/Library/CloudStorage/OneDrive-Personal/EFX F3/"
   ]
  },
  {
   "cell_type": "code",
   "execution_count": 4,
   "id": "6061f7b4",
   "metadata": {
    "id": "6061f7b4"
   },
   "outputs": [],
   "source": [
    "global dir \n",
    "dir = \"/Users/jacinta/Desktop/EFX F3/\"+str(pais)+\"/\"\n",
    "global data \n",
    "data = str(dir)+\"data/\""
   ]
  },
  {
   "cell_type": "markdown",
   "id": "85153971",
   "metadata": {
    "id": "85153971"
   },
   "source": [
    "#### 2. Limpieza de base\n",
    "- 2.1 Base inicial (raw)"
   ]
  },
  {
   "cell_type": "code",
   "execution_count": 6,
   "id": "9c96ee7a",
   "metadata": {
    "colab": {
     "base_uri": "https://localhost:8080/",
     "height": 364
    },
    "executionInfo": {
     "elapsed": 445,
     "status": "error",
     "timestamp": 1668531988540,
     "user": {
      "displayName": "Jacinta Diestre",
      "userId": "14747044798825290783"
     },
     "user_tz": 180
    },
    "id": "9c96ee7a",
    "outputId": "24c4a1ff-6f92-4a05-9c8a-4b281f19ed84",
    "scrolled": true
   },
   "outputs": [
    {
     "data": {
      "text/html": [
       "<div>\n",
       "<style scoped>\n",
       "    .dataframe tbody tr th:only-of-type {\n",
       "        vertical-align: middle;\n",
       "    }\n",
       "\n",
       "    .dataframe tbody tr th {\n",
       "        vertical-align: top;\n",
       "    }\n",
       "\n",
       "    .dataframe thead th {\n",
       "        text-align: right;\n",
       "    }\n",
       "</style>\n",
       "<table border=\"1\" class=\"dataframe\">\n",
       "  <thead>\n",
       "    <tr style=\"text-align: right;\">\n",
       "      <th></th>\n",
       "      <th>idpersona</th>\n",
       "      <th>idpersona_str</th>\n",
       "      <th>ID_UNICO_CRED</th>\n",
       "      <th>ID_UNICO_CRED_str</th>\n",
       "      <th>periodo_informacion</th>\n",
       "      <th>peri_info_monthly</th>\n",
       "      <th>peri_info_y</th>\n",
       "      <th>peri_info_m</th>\n",
       "      <th>referencia_unica</th>\n",
       "      <th>id_acreedor</th>\n",
       "      <th>...</th>\n",
       "      <th>codi_dest</th>\n",
       "      <th>otorgante_publico_privado</th>\n",
       "      <th>regulada</th>\n",
       "      <th>tipo_entidad</th>\n",
       "      <th>ubicacion_geogrfica</th>\n",
       "      <th>obs_repetidas</th>\n",
       "      <th>periodo_informacion_100</th>\n",
       "      <th>peri_info_daily1</th>\n",
       "      <th>peri_info_dailylast</th>\n",
       "      <th>_merge</th>\n",
       "    </tr>\n",
       "  </thead>\n",
       "  <tbody>\n",
       "    <tr>\n",
       "      <th>16654883</th>\n",
       "      <td>2000032078</td>\n",
       "      <td>2000032078</td>\n",
       "      <td>4765956</td>\n",
       "      <td>2000032078-415987    -4238-2021-06-29 00:00:00</td>\n",
       "      <td>202109</td>\n",
       "      <td>NaT</td>\n",
       "      <td>2021.0</td>\n",
       "      <td>20008800.0</td>\n",
       "      <td>415987</td>\n",
       "      <td>4238</td>\n",
       "      <td>...</td>\n",
       "      <td>120202</td>\n",
       "      <td></td>\n",
       "      <td>No Regulada</td>\n",
       "      <td>IMF</td>\n",
       "      <td></td>\n",
       "      <td>0</td>\n",
       "      <td>2021.089966</td>\n",
       "      <td>NaT</td>\n",
       "      <td>NaT</td>\n",
       "      <td>Matched (3)</td>\n",
       "    </tr>\n",
       "    <tr>\n",
       "      <th>16654884</th>\n",
       "      <td>2000032091</td>\n",
       "      <td>2000032091</td>\n",
       "      <td>4765969</td>\n",
       "      <td>2000032091-415988    -4256-2021-02-02 00:00:00</td>\n",
       "      <td>202109</td>\n",
       "      <td>NaT</td>\n",
       "      <td>2021.0</td>\n",
       "      <td>20008800.0</td>\n",
       "      <td>415988</td>\n",
       "      <td>4256</td>\n",
       "      <td>...</td>\n",
       "      <td>120102</td>\n",
       "      <td></td>\n",
       "      <td>No Regulada</td>\n",
       "      <td>IMF</td>\n",
       "      <td></td>\n",
       "      <td>0</td>\n",
       "      <td>2021.089966</td>\n",
       "      <td>NaT</td>\n",
       "      <td>NaT</td>\n",
       "      <td>Matched (3)</td>\n",
       "    </tr>\n",
       "    <tr>\n",
       "      <th>16654885</th>\n",
       "      <td>2000032095</td>\n",
       "      <td>2000032095</td>\n",
       "      <td>4765973</td>\n",
       "      <td>2000032095-415988    -4204-2021-01-28 00:00:00</td>\n",
       "      <td>202109</td>\n",
       "      <td>NaT</td>\n",
       "      <td>2021.0</td>\n",
       "      <td>20008800.0</td>\n",
       "      <td>415988</td>\n",
       "      <td>4204</td>\n",
       "      <td>...</td>\n",
       "      <td>100199</td>\n",
       "      <td></td>\n",
       "      <td>No Regulada</td>\n",
       "      <td>IMF</td>\n",
       "      <td></td>\n",
       "      <td>0</td>\n",
       "      <td>2021.089966</td>\n",
       "      <td>NaT</td>\n",
       "      <td>NaT</td>\n",
       "      <td>Matched (3)</td>\n",
       "    </tr>\n",
       "    <tr>\n",
       "      <th>16654886</th>\n",
       "      <td>2000032101</td>\n",
       "      <td>2000032101</td>\n",
       "      <td>4765979</td>\n",
       "      <td>2000032101-415988    -4204-2020-10-31 00:00:00</td>\n",
       "      <td>202109</td>\n",
       "      <td>NaT</td>\n",
       "      <td>2021.0</td>\n",
       "      <td>20008800.0</td>\n",
       "      <td>415988</td>\n",
       "      <td>4204</td>\n",
       "      <td>...</td>\n",
       "      <td>120102</td>\n",
       "      <td></td>\n",
       "      <td>No Regulada</td>\n",
       "      <td>IMF</td>\n",
       "      <td></td>\n",
       "      <td>0</td>\n",
       "      <td>2021.089966</td>\n",
       "      <td>NaT</td>\n",
       "      <td>NaT</td>\n",
       "      <td>Matched (3)</td>\n",
       "    </tr>\n",
       "    <tr>\n",
       "      <th>16654887</th>\n",
       "      <td>2000032111</td>\n",
       "      <td>2000032111</td>\n",
       "      <td>4765989</td>\n",
       "      <td>2000032111-415987    -4204-2021-02-27 00:00:00</td>\n",
       "      <td>202109</td>\n",
       "      <td>NaT</td>\n",
       "      <td>2021.0</td>\n",
       "      <td>20008800.0</td>\n",
       "      <td>415987</td>\n",
       "      <td>4204</td>\n",
       "      <td>...</td>\n",
       "      <td>120202</td>\n",
       "      <td></td>\n",
       "      <td>No Regulada</td>\n",
       "      <td>IMF</td>\n",
       "      <td></td>\n",
       "      <td>0</td>\n",
       "      <td>2021.089966</td>\n",
       "      <td>NaT</td>\n",
       "      <td>NaT</td>\n",
       "      <td>Matched (3)</td>\n",
       "    </tr>\n",
       "  </tbody>\n",
       "</table>\n",
       "<p>5 rows × 45 columns</p>\n",
       "</div>"
      ],
      "text/plain": [
       "           idpersona idpersona_str  ID_UNICO_CRED  \\\n",
       "16654883  2000032078    2000032078        4765956   \n",
       "16654884  2000032091    2000032091        4765969   \n",
       "16654885  2000032095    2000032095        4765973   \n",
       "16654886  2000032101    2000032101        4765979   \n",
       "16654887  2000032111    2000032111        4765989   \n",
       "\n",
       "                                       ID_UNICO_CRED_str  periodo_informacion  \\\n",
       "16654883  2000032078-415987    -4238-2021-06-29 00:00:00               202109   \n",
       "16654884  2000032091-415988    -4256-2021-02-02 00:00:00               202109   \n",
       "16654885  2000032095-415988    -4204-2021-01-28 00:00:00               202109   \n",
       "16654886  2000032101-415988    -4204-2020-10-31 00:00:00               202109   \n",
       "16654887  2000032111-415987    -4204-2021-02-27 00:00:00               202109   \n",
       "\n",
       "         peri_info_monthly  peri_info_y  peri_info_m referencia_unica  \\\n",
       "16654883               NaT       2021.0   20008800.0       415987       \n",
       "16654884               NaT       2021.0   20008800.0       415988       \n",
       "16654885               NaT       2021.0   20008800.0       415988       \n",
       "16654886               NaT       2021.0   20008800.0       415988       \n",
       "16654887               NaT       2021.0   20008800.0       415987       \n",
       "\n",
       "          id_acreedor  ... codi_dest  otorgante_publico_privado     regulada  \\\n",
       "16654883         4238  ...    120202                             No Regulada   \n",
       "16654884         4256  ...    120102                             No Regulada   \n",
       "16654885         4204  ...    100199                             No Regulada   \n",
       "16654886         4204  ...    120102                             No Regulada   \n",
       "16654887         4204  ...    120202                             No Regulada   \n",
       "\n",
       "          tipo_entidad ubicacion_geogrfica obs_repetidas  \\\n",
       "16654883           IMF                                 0   \n",
       "16654884           IMF                                 0   \n",
       "16654885           IMF                                 0   \n",
       "16654886           IMF                                 0   \n",
       "16654887           IMF                                 0   \n",
       "\n",
       "          periodo_informacion_100  peri_info_daily1  peri_info_dailylast  \\\n",
       "16654883              2021.089966               NaT                  NaT   \n",
       "16654884              2021.089966               NaT                  NaT   \n",
       "16654885              2021.089966               NaT                  NaT   \n",
       "16654886              2021.089966               NaT                  NaT   \n",
       "16654887              2021.089966               NaT                  NaT   \n",
       "\n",
       "               _merge  \n",
       "16654883  Matched (3)  \n",
       "16654884  Matched (3)  \n",
       "16654885  Matched (3)  \n",
       "16654886  Matched (3)  \n",
       "16654887  Matched (3)  \n",
       "\n",
       "[5 rows x 45 columns]"
      ]
     },
     "execution_count": 6,
     "metadata": {},
     "output_type": "execute_result"
    }
   ],
   "source": [
    "dtafile = str(data)+\"raw/EFX F3 010 010 muestra ES pod.dta\"\n",
    "base = pd.read_stata(dtafile)\n",
    "base.tail()"
   ]
  },
  {
   "cell_type": "markdown",
   "id": "d65e5b42",
   "metadata": {
    "id": "d65e5b42"
   },
   "source": [
    "* 2.2 Revisión tipo de datos y cantidad de observaciones"
   ]
  },
  {
   "cell_type": "code",
   "execution_count": 14,
   "id": "d7308622",
   "metadata": {},
   "outputs": [
    {
     "data": {
      "text/plain": [
       "16654888"
      ]
     },
     "execution_count": 14,
     "metadata": {},
     "output_type": "execute_result"
    }
   ],
   "source": [
    "len(base)"
   ]
  },
  {
   "cell_type": "code",
   "execution_count": 15,
   "id": "757596ec",
   "metadata": {},
   "outputs": [
    {
     "name": "stdout",
     "output_type": "stream",
     "text": [
      "número de refererencias únicas 16654888\n",
      "número de refererencias únicas 1485336\n"
     ]
    }
   ],
   "source": [
    "print('número de refererencias únicas '+ str(len(base)))\n",
    "print('número de refererencias únicas '+ str(base['ID_UNICO_CRED_str'].nunique()))"
   ]
  },
  {
   "cell_type": "code",
   "execution_count": null,
   "id": "ae1f5c4f",
   "metadata": {
    "id": "ae1f5c4f",
    "outputId": "26644173-a398-4211-927d-5b3e30b0e77d"
   },
   "outputs": [
    {
     "data": {
      "text/html": [
       "<div>\n",
       "<style scoped>\n",
       "    .dataframe tbody tr th:only-of-type {\n",
       "        vertical-align: middle;\n",
       "    }\n",
       "\n",
       "    .dataframe tbody tr th {\n",
       "        vertical-align: top;\n",
       "    }\n",
       "\n",
       "    .dataframe thead th {\n",
       "        text-align: right;\n",
       "    }\n",
       "</style>\n",
       "<table border=\"1\" class=\"dataframe\">\n",
       "  <thead>\n",
       "    <tr style=\"text-align: right;\">\n",
       "      <th></th>\n",
       "      <th>idpersona</th>\n",
       "      <th>ID_UNICO_CRED</th>\n",
       "      <th>periodo_informacion</th>\n",
       "      <th>peri_info_y</th>\n",
       "      <th>peri_info_m</th>\n",
       "      <th>id_acreedor</th>\n",
       "      <th>idtipo_persona</th>\n",
       "      <th>fecha_nacimiento</th>\n",
       "      <th>monto</th>\n",
       "      <th>saldo</th>\n",
       "      <th>plazo</th>\n",
       "      <th>saldo_mora</th>\n",
       "      <th>cuota</th>\n",
       "      <th>dias_mora</th>\n",
       "      <th>fech_ismc</th>\n",
       "      <th>fech_ismi</th>\n",
       "      <th>tasa_interes</th>\n",
       "      <th>obs_repetidas</th>\n",
       "      <th>periodo_informacion_100</th>\n",
       "    </tr>\n",
       "  </thead>\n",
       "  <tbody>\n",
       "    <tr>\n",
       "      <th>count</th>\n",
       "      <td>1.665489e+07</td>\n",
       "      <td>1.665489e+07</td>\n",
       "      <td>1.665489e+07</td>\n",
       "      <td>1.665489e+07</td>\n",
       "      <td>1.665489e+07</td>\n",
       "      <td>1.665489e+07</td>\n",
       "      <td>1.665177e+07</td>\n",
       "      <td>1.665177e+07</td>\n",
       "      <td>1.665489e+07</td>\n",
       "      <td>1.665489e+07</td>\n",
       "      <td>1.518735e+07</td>\n",
       "      <td>1.665489e+07</td>\n",
       "      <td>1.665489e+07</td>\n",
       "      <td>1.665489e+07</td>\n",
       "      <td>5.875232e+06</td>\n",
       "      <td>5.875232e+06</td>\n",
       "      <td>5875232.0</td>\n",
       "      <td>1.665489e+07</td>\n",
       "      <td>1.665489e+07</td>\n",
       "    </tr>\n",
       "    <tr>\n",
       "      <th>mean</th>\n",
       "      <td>1.460816e+08</td>\n",
       "      <td>7.524291e+06</td>\n",
       "      <td>2.019771e+05</td>\n",
       "      <td>2.019716e+03</td>\n",
       "      <td>1.999571e+07</td>\n",
       "      <td>4.676686e+03</td>\n",
       "      <td>1.004348e+00</td>\n",
       "      <td>1.543631e+07</td>\n",
       "      <td>4.230215e+03</td>\n",
       "      <td>3.541449e+03</td>\n",
       "      <td>4.484735e+01</td>\n",
       "      <td>9.493932e+02</td>\n",
       "      <td>1.203920e+03</td>\n",
       "      <td>3.001829e+02</td>\n",
       "      <td>5.452348e+06</td>\n",
       "      <td>5.326197e+06</td>\n",
       "      <td>0.0</td>\n",
       "      <td>6.374585e-03</td>\n",
       "      <td>2.019770e+03</td>\n",
       "    </tr>\n",
       "    <tr>\n",
       "      <th>std</th>\n",
       "      <td>3.503879e+08</td>\n",
       "      <td>4.192858e+06</td>\n",
       "      <td>8.989344e+01</td>\n",
       "      <td>9.107658e-01</td>\n",
       "      <td>8.898328e+03</td>\n",
       "      <td>1.887676e+03</td>\n",
       "      <td>6.579681e-02</td>\n",
       "      <td>8.941142e+06</td>\n",
       "      <td>1.698249e+06</td>\n",
       "      <td>3.051668e+06</td>\n",
       "      <td>5.985550e+01</td>\n",
       "      <td>1.912691e+06</td>\n",
       "      <td>2.435747e+06</td>\n",
       "      <td>7.269117e+02</td>\n",
       "      <td>8.956313e+06</td>\n",
       "      <td>8.889136e+06</td>\n",
       "      <td>0.0</td>\n",
       "      <td>8.182693e-02</td>\n",
       "      <td>8.989384e-01</td>\n",
       "    </tr>\n",
       "    <tr>\n",
       "      <th>min</th>\n",
       "      <td>1.600000e+01</td>\n",
       "      <td>1.180000e+02</td>\n",
       "      <td>2.018100e+05</td>\n",
       "      <td>2.018000e+03</td>\n",
       "      <td>1.997920e+07</td>\n",
       "      <td>2.600000e+01</td>\n",
       "      <td>1.000000e+00</td>\n",
       "      <td>0.000000e+00</td>\n",
       "      <td>0.000000e+00</td>\n",
       "      <td>0.000000e+00</td>\n",
       "      <td>-1.080000e+03</td>\n",
       "      <td>0.000000e+00</td>\n",
       "      <td>0.000000e+00</td>\n",
       "      <td>-8.800000e+02</td>\n",
       "      <td>0.000000e+00</td>\n",
       "      <td>0.000000e+00</td>\n",
       "      <td>0.0</td>\n",
       "      <td>0.000000e+00</td>\n",
       "      <td>2.018100e+03</td>\n",
       "    </tr>\n",
       "    <tr>\n",
       "      <th>25%</th>\n",
       "      <td>1.340041e+06</td>\n",
       "      <td>4.029063e+06</td>\n",
       "      <td>2.019060e+05</td>\n",
       "      <td>2.019000e+03</td>\n",
       "      <td>1.998870e+07</td>\n",
       "      <td>4.015000e+03</td>\n",
       "      <td>1.000000e+00</td>\n",
       "      <td>8.031962e+06</td>\n",
       "      <td>2.290000e+02</td>\n",
       "      <td>0.000000e+00</td>\n",
       "      <td>1.200000e+01</td>\n",
       "      <td>0.000000e+00</td>\n",
       "      <td>0.000000e+00</td>\n",
       "      <td>0.000000e+00</td>\n",
       "      <td>0.000000e+00</td>\n",
       "      <td>0.000000e+00</td>\n",
       "      <td>0.0</td>\n",
       "      <td>0.000000e+00</td>\n",
       "      <td>2.019060e+03</td>\n",
       "    </tr>\n",
       "    <tr>\n",
       "      <th>50%</th>\n",
       "      <td>3.166563e+06</td>\n",
       "      <td>7.661810e+06</td>\n",
       "      <td>2.020030e+05</td>\n",
       "      <td>2.020000e+03</td>\n",
       "      <td>1.999830e+07</td>\n",
       "      <td>4.550000e+03</td>\n",
       "      <td>1.000000e+00</td>\n",
       "      <td>1.510196e+07</td>\n",
       "      <td>6.843700e+02</td>\n",
       "      <td>1.478600e+02</td>\n",
       "      <td>2.500000e+01</td>\n",
       "      <td>0.000000e+00</td>\n",
       "      <td>2.140000e+01</td>\n",
       "      <td>0.000000e+00</td>\n",
       "      <td>0.000000e+00</td>\n",
       "      <td>0.000000e+00</td>\n",
       "      <td>0.0</td>\n",
       "      <td>0.000000e+00</td>\n",
       "      <td>2.020030e+03</td>\n",
       "    </tr>\n",
       "    <tr>\n",
       "      <th>75%</th>\n",
       "      <td>5.552692e+06</td>\n",
       "      <td>1.098995e+07</td>\n",
       "      <td>2.020120e+05</td>\n",
       "      <td>2.020000e+03</td>\n",
       "      <td>1.999920e+07</td>\n",
       "      <td>5.080000e+03</td>\n",
       "      <td>1.000000e+00</td>\n",
       "      <td>2.308197e+07</td>\n",
       "      <td>2.400000e+03</td>\n",
       "      <td>9.453600e+02</td>\n",
       "      <td>6.000000e+01</td>\n",
       "      <td>0.000000e+00</td>\n",
       "      <td>7.400000e+01</td>\n",
       "      <td>1.700000e+01</td>\n",
       "      <td>2.013011e+07</td>\n",
       "      <td>2.011102e+07</td>\n",
       "      <td>0.0</td>\n",
       "      <td>0.000000e+00</td>\n",
       "      <td>2.020120e+03</td>\n",
       "    </tr>\n",
       "    <tr>\n",
       "      <th>max</th>\n",
       "      <td>2.000032e+09</td>\n",
       "      <td>1.488023e+07</td>\n",
       "      <td>2.021090e+05</td>\n",
       "      <td>2.021000e+03</td>\n",
       "      <td>2.000880e+07</td>\n",
       "      <td>8.103000e+03</td>\n",
       "      <td>2.000000e+00</td>\n",
       "      <td>3.112200e+07</td>\n",
       "      <td>6.000001e+09</td>\n",
       "      <td>8.800000e+09</td>\n",
       "      <td>9.598200e+04</td>\n",
       "      <td>6.200000e+09</td>\n",
       "      <td>7.800000e+09</td>\n",
       "      <td>1.437200e+04</td>\n",
       "      <td>2.021093e+07</td>\n",
       "      <td>2.021093e+07</td>\n",
       "      <td>0.0</td>\n",
       "      <td>3.000000e+00</td>\n",
       "      <td>2.021090e+03</td>\n",
       "    </tr>\n",
       "  </tbody>\n",
       "</table>\n",
       "</div>"
      ],
      "text/plain": [
       "          idpersona  ID_UNICO_CRED  periodo_informacion   peri_info_y  \\\n",
       "count  1.665489e+07   1.665489e+07         1.665489e+07  1.665489e+07   \n",
       "mean   1.460816e+08   7.524291e+06         2.019771e+05  2.019716e+03   \n",
       "std    3.503879e+08   4.192858e+06         8.989344e+01  9.107658e-01   \n",
       "min    1.600000e+01   1.180000e+02         2.018100e+05  2.018000e+03   \n",
       "25%    1.340041e+06   4.029063e+06         2.019060e+05  2.019000e+03   \n",
       "50%    3.166563e+06   7.661810e+06         2.020030e+05  2.020000e+03   \n",
       "75%    5.552692e+06   1.098995e+07         2.020120e+05  2.020000e+03   \n",
       "max    2.000032e+09   1.488023e+07         2.021090e+05  2.021000e+03   \n",
       "\n",
       "        peri_info_m   id_acreedor  idtipo_persona  fecha_nacimiento  \\\n",
       "count  1.665489e+07  1.665489e+07    1.665177e+07      1.665177e+07   \n",
       "mean   1.999571e+07  4.676686e+03    1.004348e+00      1.543631e+07   \n",
       "std    8.898328e+03  1.887676e+03    6.579681e-02      8.941142e+06   \n",
       "min    1.997920e+07  2.600000e+01    1.000000e+00      0.000000e+00   \n",
       "25%    1.998870e+07  4.015000e+03    1.000000e+00      8.031962e+06   \n",
       "50%    1.999830e+07  4.550000e+03    1.000000e+00      1.510196e+07   \n",
       "75%    1.999920e+07  5.080000e+03    1.000000e+00      2.308197e+07   \n",
       "max    2.000880e+07  8.103000e+03    2.000000e+00      3.112200e+07   \n",
       "\n",
       "              monto         saldo         plazo    saldo_mora         cuota  \\\n",
       "count  1.665489e+07  1.665489e+07  1.518735e+07  1.665489e+07  1.665489e+07   \n",
       "mean   4.230215e+03  3.541449e+03  4.484735e+01  9.493932e+02  1.203920e+03   \n",
       "std    1.698249e+06  3.051668e+06  5.985550e+01  1.912691e+06  2.435747e+06   \n",
       "min    0.000000e+00  0.000000e+00 -1.080000e+03  0.000000e+00  0.000000e+00   \n",
       "25%    2.290000e+02  0.000000e+00  1.200000e+01  0.000000e+00  0.000000e+00   \n",
       "50%    6.843700e+02  1.478600e+02  2.500000e+01  0.000000e+00  2.140000e+01   \n",
       "75%    2.400000e+03  9.453600e+02  6.000000e+01  0.000000e+00  7.400000e+01   \n",
       "max    6.000001e+09  8.800000e+09  9.598200e+04  6.200000e+09  7.800000e+09   \n",
       "\n",
       "          dias_mora     fech_ismc     fech_ismi  tasa_interes  obs_repetidas  \\\n",
       "count  1.665489e+07  5.875232e+06  5.875232e+06     5875232.0   1.665489e+07   \n",
       "mean   3.001829e+02  5.452348e+06  5.326197e+06           0.0   6.374585e-03   \n",
       "std    7.269117e+02  8.956313e+06  8.889136e+06           0.0   8.182693e-02   \n",
       "min   -8.800000e+02  0.000000e+00  0.000000e+00           0.0   0.000000e+00   \n",
       "25%    0.000000e+00  0.000000e+00  0.000000e+00           0.0   0.000000e+00   \n",
       "50%    0.000000e+00  0.000000e+00  0.000000e+00           0.0   0.000000e+00   \n",
       "75%    1.700000e+01  2.013011e+07  2.011102e+07           0.0   0.000000e+00   \n",
       "max    1.437200e+04  2.021093e+07  2.021093e+07           0.0   3.000000e+00   \n",
       "\n",
       "       periodo_informacion_100  \n",
       "count             1.665489e+07  \n",
       "mean              2.019770e+03  \n",
       "std               8.989384e-01  \n",
       "min               2.018100e+03  \n",
       "25%               2.019060e+03  \n",
       "50%               2.020030e+03  \n",
       "75%               2.020120e+03  \n",
       "max               2.021090e+03  "
      ]
     },
     "execution_count": 6,
     "metadata": {},
     "output_type": "execute_result"
    }
   ],
   "source": [
    "base.describe()"
   ]
  },
  {
   "cell_type": "code",
   "execution_count": null,
   "id": "b3aca28d",
   "metadata": {
    "id": "b3aca28d",
    "outputId": "3cfcb2a0-1538-4637-acc6-dd9466609bd3",
    "scrolled": true
   },
   "outputs": [
    {
     "name": "stdout",
     "output_type": "stream",
     "text": [
      "Tipo de dato por variable\n"
     ]
    },
    {
     "data": {
      "text/plain": [
       "idpersona                             int32\n",
       "idpersona_str                        object\n",
       "ID_UNICO_CRED                         int32\n",
       "ID_UNICO_CRED_str                    object\n",
       "periodo_informacion                   int32\n",
       "peri_info_monthly            datetime64[ns]\n",
       "peri_info_y                         float32\n",
       "peri_info_m                         float32\n",
       "referencia_unica                     object\n",
       "id_acreedor                           int16\n",
       "id_acreedor_str                      object\n",
       "idtipo_persona                      float64\n",
       "sexo                                 object\n",
       "fecha_nacimiento                    float64\n",
       "tamanio_empresa                      object\n",
       "sector_empresa                       object\n",
       "monto                               float64\n",
       "saldo                               float64\n",
       "plazo                               float64\n",
       "fecha_otorgamiento                   object\n",
       "fecha_vencimiento                    object\n",
       "fecha_cancelacion                    object\n",
       "saldo_mora                          float64\n",
       "cuota                               float64\n",
       "fecha_inicio_mora                    object\n",
       "dias_mora                             int32\n",
       "fech_ismc                           float64\n",
       "fech_ismi                           float64\n",
       "tasa_interes                        float64\n",
       "datasources                          object\n",
       "tipo_credito                         object\n",
       "tipo_prestamo                        object\n",
       "estado_credito                       object\n",
       "tipo_garantia                        object\n",
       "calificacion_riesgo                  object\n",
       "codi_dest                            object\n",
       "otorgante_publico_privado            object\n",
       "regulada                             object\n",
       "tipo_entidad                         object\n",
       "ubicacion_geogrfica                  object\n",
       "obs_repetidas                          int8\n",
       "periodo_informacion_100             float32\n",
       "peri_info_daily1             datetime64[ns]\n",
       "peri_info_dailylast          datetime64[ns]\n",
       "_merge                             category\n",
       "dtype: object"
      ]
     },
     "execution_count": 7,
     "metadata": {},
     "output_type": "execute_result"
    }
   ],
   "source": [
    "print(\"Tipo de dato por variable\")\n",
    "base.dtypes"
   ]
  },
  {
   "cell_type": "code",
   "execution_count": 27,
   "id": "31652c3c",
   "metadata": {},
   "outputs": [],
   "source": [
    "str_columns = base.dtypes[base.dtypes == \"object\"].index.values.tolist()"
   ]
  },
  {
   "cell_type": "code",
   "execution_count": 30,
   "id": "01654826",
   "metadata": {},
   "outputs": [],
   "source": [
    "base.replace('', np.nan, inplace= True)"
   ]
  },
  {
   "cell_type": "markdown",
   "id": "79f77b0f",
   "metadata": {
    "id": "79f77b0f"
   },
   "source": [
    "- 2.3 Revisión Nulos"
   ]
  },
  {
   "cell_type": "code",
   "execution_count": 31,
   "id": "99b1c19c",
   "metadata": {
    "colab": {
     "base_uri": "https://localhost:8080/",
     "height": 184
    },
    "executionInfo": {
     "elapsed": 3,
     "status": "error",
     "timestamp": 1668528839106,
     "user": {
      "displayName": "Jacinta Diestre",
      "userId": "14747044798825290783"
     },
     "user_tz": 180
    },
    "id": "99b1c19c",
    "outputId": "b2b1aa82-2f8f-4eae-e546-838ac766b3f2",
    "scrolled": true
   },
   "outputs": [],
   "source": [
    "total_missing = base.isna().sum()\n",
    "porcentaje_missing = base.isna().mean()*100"
   ]
  },
  {
   "cell_type": "code",
   "execution_count": 34,
   "id": "403adb5e",
   "metadata": {
    "id": "403adb5e",
    "outputId": "e1a977ef-4878-4d20-8e23-36a4302e798c",
    "scrolled": true
   },
   "outputs": [
    {
     "name": "stdout",
     "output_type": "stream",
     "text": [
      "Cantidad de datos missing por variable\n"
     ]
    },
    {
     "data": {
      "text/html": [
       "<div>\n",
       "<style scoped>\n",
       "    .dataframe tbody tr th:only-of-type {\n",
       "        vertical-align: middle;\n",
       "    }\n",
       "\n",
       "    .dataframe tbody tr th {\n",
       "        vertical-align: top;\n",
       "    }\n",
       "\n",
       "    .dataframe thead th {\n",
       "        text-align: right;\n",
       "    }\n",
       "</style>\n",
       "<table border=\"1\" class=\"dataframe\">\n",
       "  <thead>\n",
       "    <tr style=\"text-align: right;\">\n",
       "      <th></th>\n",
       "      <th>column_name</th>\n",
       "      <th>Total missing</th>\n",
       "      <th>Porcentaje missing</th>\n",
       "    </tr>\n",
       "  </thead>\n",
       "  <tbody>\n",
       "    <tr>\n",
       "      <th>idpersona</th>\n",
       "      <td>idpersona</td>\n",
       "      <td>0</td>\n",
       "      <td>0.000000</td>\n",
       "    </tr>\n",
       "    <tr>\n",
       "      <th>idpersona_str</th>\n",
       "      <td>idpersona_str</td>\n",
       "      <td>0</td>\n",
       "      <td>0.000000</td>\n",
       "    </tr>\n",
       "    <tr>\n",
       "      <th>ID_UNICO_CRED</th>\n",
       "      <td>ID_UNICO_CRED</td>\n",
       "      <td>0</td>\n",
       "      <td>0.000000</td>\n",
       "    </tr>\n",
       "    <tr>\n",
       "      <th>ID_UNICO_CRED_str</th>\n",
       "      <td>ID_UNICO_CRED_str</td>\n",
       "      <td>0</td>\n",
       "      <td>0.000000</td>\n",
       "    </tr>\n",
       "    <tr>\n",
       "      <th>periodo_informacion</th>\n",
       "      <td>periodo_informacion</td>\n",
       "      <td>0</td>\n",
       "      <td>0.000000</td>\n",
       "    </tr>\n",
       "    <tr>\n",
       "      <th>peri_info_monthly</th>\n",
       "      <td>peri_info_monthly</td>\n",
       "      <td>16654888</td>\n",
       "      <td>100.000000</td>\n",
       "    </tr>\n",
       "    <tr>\n",
       "      <th>peri_info_y</th>\n",
       "      <td>peri_info_y</td>\n",
       "      <td>0</td>\n",
       "      <td>0.000000</td>\n",
       "    </tr>\n",
       "    <tr>\n",
       "      <th>peri_info_m</th>\n",
       "      <td>peri_info_m</td>\n",
       "      <td>0</td>\n",
       "      <td>0.000000</td>\n",
       "    </tr>\n",
       "    <tr>\n",
       "      <th>referencia_unica</th>\n",
       "      <td>referencia_unica</td>\n",
       "      <td>0</td>\n",
       "      <td>0.000000</td>\n",
       "    </tr>\n",
       "    <tr>\n",
       "      <th>id_acreedor</th>\n",
       "      <td>id_acreedor</td>\n",
       "      <td>0</td>\n",
       "      <td>0.000000</td>\n",
       "    </tr>\n",
       "    <tr>\n",
       "      <th>id_acreedor_str</th>\n",
       "      <td>id_acreedor_str</td>\n",
       "      <td>0</td>\n",
       "      <td>0.000000</td>\n",
       "    </tr>\n",
       "    <tr>\n",
       "      <th>idtipo_persona</th>\n",
       "      <td>idtipo_persona</td>\n",
       "      <td>3118</td>\n",
       "      <td>0.018721</td>\n",
       "    </tr>\n",
       "    <tr>\n",
       "      <th>sexo</th>\n",
       "      <td>sexo</td>\n",
       "      <td>9682466</td>\n",
       "      <td>58.135882</td>\n",
       "    </tr>\n",
       "    <tr>\n",
       "      <th>fecha_nacimiento</th>\n",
       "      <td>fecha_nacimiento</td>\n",
       "      <td>3118</td>\n",
       "      <td>0.018721</td>\n",
       "    </tr>\n",
       "    <tr>\n",
       "      <th>tamanio_empresa</th>\n",
       "      <td>tamanio_empresa</td>\n",
       "      <td>16642120</td>\n",
       "      <td>99.923338</td>\n",
       "    </tr>\n",
       "    <tr>\n",
       "      <th>sector_empresa</th>\n",
       "      <td>sector_empresa</td>\n",
       "      <td>16647460</td>\n",
       "      <td>99.955400</td>\n",
       "    </tr>\n",
       "    <tr>\n",
       "      <th>monto</th>\n",
       "      <td>monto</td>\n",
       "      <td>0</td>\n",
       "      <td>0.000000</td>\n",
       "    </tr>\n",
       "    <tr>\n",
       "      <th>saldo</th>\n",
       "      <td>saldo</td>\n",
       "      <td>0</td>\n",
       "      <td>0.000000</td>\n",
       "    </tr>\n",
       "    <tr>\n",
       "      <th>plazo</th>\n",
       "      <td>plazo</td>\n",
       "      <td>1467538</td>\n",
       "      <td>8.811455</td>\n",
       "    </tr>\n",
       "    <tr>\n",
       "      <th>fecha_otorgamiento</th>\n",
       "      <td>fecha_otorgamiento</td>\n",
       "      <td>1874</td>\n",
       "      <td>0.011252</td>\n",
       "    </tr>\n",
       "    <tr>\n",
       "      <th>fecha_vencimiento</th>\n",
       "      <td>fecha_vencimiento</td>\n",
       "      <td>1467537</td>\n",
       "      <td>8.811449</td>\n",
       "    </tr>\n",
       "    <tr>\n",
       "      <th>fecha_cancelacion</th>\n",
       "      <td>fecha_cancelacion</td>\n",
       "      <td>12925866</td>\n",
       "      <td>77.610045</td>\n",
       "    </tr>\n",
       "    <tr>\n",
       "      <th>saldo_mora</th>\n",
       "      <td>saldo_mora</td>\n",
       "      <td>0</td>\n",
       "      <td>0.000000</td>\n",
       "    </tr>\n",
       "    <tr>\n",
       "      <th>cuota</th>\n",
       "      <td>cuota</td>\n",
       "      <td>0</td>\n",
       "      <td>0.000000</td>\n",
       "    </tr>\n",
       "    <tr>\n",
       "      <th>fecha_inicio_mora</th>\n",
       "      <td>fecha_inicio_mora</td>\n",
       "      <td>8194896</td>\n",
       "      <td>49.204150</td>\n",
       "    </tr>\n",
       "    <tr>\n",
       "      <th>dias_mora</th>\n",
       "      <td>dias_mora</td>\n",
       "      <td>0</td>\n",
       "      <td>0.000000</td>\n",
       "    </tr>\n",
       "    <tr>\n",
       "      <th>fech_ismc</th>\n",
       "      <td>fech_ismc</td>\n",
       "      <td>10779656</td>\n",
       "      <td>64.723678</td>\n",
       "    </tr>\n",
       "    <tr>\n",
       "      <th>fech_ismi</th>\n",
       "      <td>fech_ismi</td>\n",
       "      <td>10779656</td>\n",
       "      <td>64.723678</td>\n",
       "    </tr>\n",
       "    <tr>\n",
       "      <th>tasa_interes</th>\n",
       "      <td>tasa_interes</td>\n",
       "      <td>10779656</td>\n",
       "      <td>64.723678</td>\n",
       "    </tr>\n",
       "    <tr>\n",
       "      <th>datasources</th>\n",
       "      <td>datasources</td>\n",
       "      <td>0</td>\n",
       "      <td>0.000000</td>\n",
       "    </tr>\n",
       "    <tr>\n",
       "      <th>tipo_credito</th>\n",
       "      <td>tipo_credito</td>\n",
       "      <td>1313</td>\n",
       "      <td>0.007884</td>\n",
       "    </tr>\n",
       "    <tr>\n",
       "      <th>tipo_prestamo</th>\n",
       "      <td>tipo_prestamo</td>\n",
       "      <td>1752924</td>\n",
       "      <td>10.524982</td>\n",
       "    </tr>\n",
       "    <tr>\n",
       "      <th>estado_credito</th>\n",
       "      <td>estado_credito</td>\n",
       "      <td>66531</td>\n",
       "      <td>0.399468</td>\n",
       "    </tr>\n",
       "    <tr>\n",
       "      <th>tipo_garantia</th>\n",
       "      <td>tipo_garantia</td>\n",
       "      <td>110981</td>\n",
       "      <td>0.666357</td>\n",
       "    </tr>\n",
       "    <tr>\n",
       "      <th>calificacion_riesgo</th>\n",
       "      <td>calificacion_riesgo</td>\n",
       "      <td>10829259</td>\n",
       "      <td>65.021506</td>\n",
       "    </tr>\n",
       "    <tr>\n",
       "      <th>codi_dest</th>\n",
       "      <td>codi_dest</td>\n",
       "      <td>0</td>\n",
       "      <td>0.000000</td>\n",
       "    </tr>\n",
       "    <tr>\n",
       "      <th>otorgante_publico_privado</th>\n",
       "      <td>otorgante_publico_privado</td>\n",
       "      <td>0</td>\n",
       "      <td>0.000000</td>\n",
       "    </tr>\n",
       "    <tr>\n",
       "      <th>regulada</th>\n",
       "      <td>regulada</td>\n",
       "      <td>0</td>\n",
       "      <td>0.000000</td>\n",
       "    </tr>\n",
       "    <tr>\n",
       "      <th>tipo_entidad</th>\n",
       "      <td>tipo_entidad</td>\n",
       "      <td>141963</td>\n",
       "      <td>0.852380</td>\n",
       "    </tr>\n",
       "    <tr>\n",
       "      <th>ubicacion_geogrfica</th>\n",
       "      <td>ubicacion_geogrfica</td>\n",
       "      <td>0</td>\n",
       "      <td>0.000000</td>\n",
       "    </tr>\n",
       "    <tr>\n",
       "      <th>obs_repetidas</th>\n",
       "      <td>obs_repetidas</td>\n",
       "      <td>0</td>\n",
       "      <td>0.000000</td>\n",
       "    </tr>\n",
       "    <tr>\n",
       "      <th>periodo_informacion_100</th>\n",
       "      <td>periodo_informacion_100</td>\n",
       "      <td>0</td>\n",
       "      <td>0.000000</td>\n",
       "    </tr>\n",
       "    <tr>\n",
       "      <th>peri_info_daily1</th>\n",
       "      <td>peri_info_daily1</td>\n",
       "      <td>16654888</td>\n",
       "      <td>100.000000</td>\n",
       "    </tr>\n",
       "    <tr>\n",
       "      <th>peri_info_dailylast</th>\n",
       "      <td>peri_info_dailylast</td>\n",
       "      <td>16654888</td>\n",
       "      <td>100.000000</td>\n",
       "    </tr>\n",
       "    <tr>\n",
       "      <th>_merge</th>\n",
       "      <td>_merge</td>\n",
       "      <td>0</td>\n",
       "      <td>0.000000</td>\n",
       "    </tr>\n",
       "  </tbody>\n",
       "</table>\n",
       "</div>"
      ],
      "text/plain": [
       "                                         column_name  Total missing  \\\n",
       "idpersona                                  idpersona              0   \n",
       "idpersona_str                          idpersona_str              0   \n",
       "ID_UNICO_CRED                          ID_UNICO_CRED              0   \n",
       "ID_UNICO_CRED_str                  ID_UNICO_CRED_str              0   \n",
       "periodo_informacion              periodo_informacion              0   \n",
       "peri_info_monthly                  peri_info_monthly       16654888   \n",
       "peri_info_y                              peri_info_y              0   \n",
       "peri_info_m                              peri_info_m              0   \n",
       "referencia_unica                    referencia_unica              0   \n",
       "id_acreedor                              id_acreedor              0   \n",
       "id_acreedor_str                      id_acreedor_str              0   \n",
       "idtipo_persona                        idtipo_persona           3118   \n",
       "sexo                                            sexo        9682466   \n",
       "fecha_nacimiento                    fecha_nacimiento           3118   \n",
       "tamanio_empresa                      tamanio_empresa       16642120   \n",
       "sector_empresa                        sector_empresa       16647460   \n",
       "monto                                          monto              0   \n",
       "saldo                                          saldo              0   \n",
       "plazo                                          plazo        1467538   \n",
       "fecha_otorgamiento                fecha_otorgamiento           1874   \n",
       "fecha_vencimiento                  fecha_vencimiento        1467537   \n",
       "fecha_cancelacion                  fecha_cancelacion       12925866   \n",
       "saldo_mora                                saldo_mora              0   \n",
       "cuota                                          cuota              0   \n",
       "fecha_inicio_mora                  fecha_inicio_mora        8194896   \n",
       "dias_mora                                  dias_mora              0   \n",
       "fech_ismc                                  fech_ismc       10779656   \n",
       "fech_ismi                                  fech_ismi       10779656   \n",
       "tasa_interes                            tasa_interes       10779656   \n",
       "datasources                              datasources              0   \n",
       "tipo_credito                            tipo_credito           1313   \n",
       "tipo_prestamo                          tipo_prestamo        1752924   \n",
       "estado_credito                        estado_credito          66531   \n",
       "tipo_garantia                          tipo_garantia         110981   \n",
       "calificacion_riesgo              calificacion_riesgo       10829259   \n",
       "codi_dest                                  codi_dest              0   \n",
       "otorgante_publico_privado  otorgante_publico_privado              0   \n",
       "regulada                                    regulada              0   \n",
       "tipo_entidad                            tipo_entidad         141963   \n",
       "ubicacion_geogrfica              ubicacion_geogrfica              0   \n",
       "obs_repetidas                          obs_repetidas              0   \n",
       "periodo_informacion_100      periodo_informacion_100              0   \n",
       "peri_info_daily1                    peri_info_daily1       16654888   \n",
       "peri_info_dailylast              peri_info_dailylast       16654888   \n",
       "_merge                                        _merge              0   \n",
       "\n",
       "                           Porcentaje missing  \n",
       "idpersona                            0.000000  \n",
       "idpersona_str                        0.000000  \n",
       "ID_UNICO_CRED                        0.000000  \n",
       "ID_UNICO_CRED_str                    0.000000  \n",
       "periodo_informacion                  0.000000  \n",
       "peri_info_monthly                  100.000000  \n",
       "peri_info_y                          0.000000  \n",
       "peri_info_m                          0.000000  \n",
       "referencia_unica                     0.000000  \n",
       "id_acreedor                          0.000000  \n",
       "id_acreedor_str                      0.000000  \n",
       "idtipo_persona                       0.018721  \n",
       "sexo                                58.135882  \n",
       "fecha_nacimiento                     0.018721  \n",
       "tamanio_empresa                     99.923338  \n",
       "sector_empresa                      99.955400  \n",
       "monto                                0.000000  \n",
       "saldo                                0.000000  \n",
       "plazo                                8.811455  \n",
       "fecha_otorgamiento                   0.011252  \n",
       "fecha_vencimiento                    8.811449  \n",
       "fecha_cancelacion                   77.610045  \n",
       "saldo_mora                           0.000000  \n",
       "cuota                                0.000000  \n",
       "fecha_inicio_mora                   49.204150  \n",
       "dias_mora                            0.000000  \n",
       "fech_ismc                           64.723678  \n",
       "fech_ismi                           64.723678  \n",
       "tasa_interes                        64.723678  \n",
       "datasources                          0.000000  \n",
       "tipo_credito                         0.007884  \n",
       "tipo_prestamo                       10.524982  \n",
       "estado_credito                       0.399468  \n",
       "tipo_garantia                        0.666357  \n",
       "calificacion_riesgo                 65.021506  \n",
       "codi_dest                            0.000000  \n",
       "otorgante_publico_privado            0.000000  \n",
       "regulada                             0.000000  \n",
       "tipo_entidad                         0.852380  \n",
       "ubicacion_geogrfica                  0.000000  \n",
       "obs_repetidas                        0.000000  \n",
       "periodo_informacion_100              0.000000  \n",
       "peri_info_daily1                   100.000000  \n",
       "peri_info_dailylast                100.000000  \n",
       "_merge                               0.000000  "
      ]
     },
     "execution_count": 34,
     "metadata": {},
     "output_type": "execute_result"
    }
   ],
   "source": [
    "print(\"Cantidad de datos missing por variable\")\n",
    "pd.DataFrame({'column_name': base.columns,\n",
    "                                 'Total missing': total_missing, 'Porcentaje missing': porcentaje_missing})"
   ]
  },
  {
   "cell_type": "code",
   "execution_count": 92,
   "id": "f6f331c2",
   "metadata": {},
   "outputs": [
    {
     "name": "stdout",
     "output_type": "stream",
     "text": [
      "Cantidad de observaciones por tipo de persona y sexo\n"
     ]
    },
    {
     "data": {
      "text/html": [
       "<div>\n",
       "<style scoped>\n",
       "    .dataframe tbody tr th:only-of-type {\n",
       "        vertical-align: middle;\n",
       "    }\n",
       "\n",
       "    .dataframe tbody tr th {\n",
       "        vertical-align: top;\n",
       "    }\n",
       "\n",
       "    .dataframe thead th {\n",
       "        text-align: right;\n",
       "    }\n",
       "</style>\n",
       "<table border=\"1\" class=\"dataframe\">\n",
       "  <thead>\n",
       "    <tr style=\"text-align: right;\">\n",
       "      <th>idtipo_persona</th>\n",
       "      <th>1.0</th>\n",
       "      <th>2.0</th>\n",
       "      <th>missing</th>\n",
       "      <th>All</th>\n",
       "    </tr>\n",
       "    <tr>\n",
       "      <th>sexo</th>\n",
       "      <th></th>\n",
       "      <th></th>\n",
       "      <th></th>\n",
       "      <th></th>\n",
       "    </tr>\n",
       "  </thead>\n",
       "  <tbody>\n",
       "    <tr>\n",
       "      <th>F</th>\n",
       "      <td>2911915</td>\n",
       "      <td>0</td>\n",
       "      <td>0</td>\n",
       "      <td>2911915</td>\n",
       "    </tr>\n",
       "    <tr>\n",
       "      <th>M</th>\n",
       "      <td>4041154</td>\n",
       "      <td>0</td>\n",
       "      <td>0</td>\n",
       "      <td>4041154</td>\n",
       "    </tr>\n",
       "    <tr>\n",
       "      <th>missing</th>\n",
       "      <td>9574245</td>\n",
       "      <td>72370</td>\n",
       "      <td>3118</td>\n",
       "      <td>9649733</td>\n",
       "    </tr>\n",
       "    <tr>\n",
       "      <th>All</th>\n",
       "      <td>16527314</td>\n",
       "      <td>72370</td>\n",
       "      <td>3118</td>\n",
       "      <td>16602802</td>\n",
       "    </tr>\n",
       "  </tbody>\n",
       "</table>\n",
       "</div>"
      ],
      "text/plain": [
       "idtipo_persona       1.0    2.0  missing       All\n",
       "sexo                                              \n",
       "F                2911915      0        0   2911915\n",
       "M                4041154      0        0   4041154\n",
       "missing          9574245  72370     3118   9649733\n",
       "All             16527314  72370     3118  16602802"
      ]
     },
     "execution_count": 92,
     "metadata": {},
     "output_type": "execute_result"
    }
   ],
   "source": [
    "print('Cantidad de observaciones por tipo de persona y sexo')\n",
    "pd.crosstab(base['sexo'].fillna('missing'), base['idtipo_persona'].fillna('missing'),dropna=False, margins=True)"
   ]
  },
  {
   "cell_type": "code",
   "execution_count": 93,
   "id": "d9263e90",
   "metadata": {
    "scrolled": true
   },
   "outputs": [
    {
     "name": "stdout",
     "output_type": "stream",
     "text": [
      "Cantidad de observaciones por tipo de persona y tamaño de la empresa\n"
     ]
    },
    {
     "data": {
      "text/html": [
       "<div>\n",
       "<style scoped>\n",
       "    .dataframe tbody tr th:only-of-type {\n",
       "        vertical-align: middle;\n",
       "    }\n",
       "\n",
       "    .dataframe tbody tr th {\n",
       "        vertical-align: top;\n",
       "    }\n",
       "\n",
       "    .dataframe thead th {\n",
       "        text-align: right;\n",
       "    }\n",
       "</style>\n",
       "<table border=\"1\" class=\"dataframe\">\n",
       "  <thead>\n",
       "    <tr style=\"text-align: right;\">\n",
       "      <th>idtipo_persona</th>\n",
       "      <th>1.0</th>\n",
       "      <th>2.0</th>\n",
       "      <th>missing</th>\n",
       "      <th>All</th>\n",
       "    </tr>\n",
       "    <tr>\n",
       "      <th>tamanio_empresa</th>\n",
       "      <th></th>\n",
       "      <th></th>\n",
       "      <th></th>\n",
       "      <th></th>\n",
       "    </tr>\n",
       "  </thead>\n",
       "  <tbody>\n",
       "    <tr>\n",
       "      <th>GE</th>\n",
       "      <td>0</td>\n",
       "      <td>740</td>\n",
       "      <td>0</td>\n",
       "      <td>740</td>\n",
       "    </tr>\n",
       "    <tr>\n",
       "      <th>GO</th>\n",
       "      <td>0</td>\n",
       "      <td>215</td>\n",
       "      <td>0</td>\n",
       "      <td>215</td>\n",
       "    </tr>\n",
       "    <tr>\n",
       "      <th>ME</th>\n",
       "      <td>0</td>\n",
       "      <td>8408</td>\n",
       "      <td>0</td>\n",
       "      <td>8408</td>\n",
       "    </tr>\n",
       "    <tr>\n",
       "      <th>MI</th>\n",
       "      <td>0</td>\n",
       "      <td>326</td>\n",
       "      <td>0</td>\n",
       "      <td>326</td>\n",
       "    </tr>\n",
       "    <tr>\n",
       "      <th>PE</th>\n",
       "      <td>0</td>\n",
       "      <td>3079</td>\n",
       "      <td>0</td>\n",
       "      <td>3079</td>\n",
       "    </tr>\n",
       "    <tr>\n",
       "      <th>missing</th>\n",
       "      <td>16527314</td>\n",
       "      <td>59602</td>\n",
       "      <td>3118</td>\n",
       "      <td>16590034</td>\n",
       "    </tr>\n",
       "    <tr>\n",
       "      <th>All</th>\n",
       "      <td>16527314</td>\n",
       "      <td>72370</td>\n",
       "      <td>3118</td>\n",
       "      <td>16602802</td>\n",
       "    </tr>\n",
       "  </tbody>\n",
       "</table>\n",
       "</div>"
      ],
      "text/plain": [
       "idtipo_persona        1.0    2.0  missing       All\n",
       "tamanio_empresa                                    \n",
       "GE                      0    740        0       740\n",
       "GO                      0    215        0       215\n",
       "ME                      0   8408        0      8408\n",
       "MI                      0    326        0       326\n",
       "PE                      0   3079        0      3079\n",
       "missing          16527314  59602     3118  16590034\n",
       "All              16527314  72370     3118  16602802"
      ]
     },
     "execution_count": 93,
     "metadata": {},
     "output_type": "execute_result"
    }
   ],
   "source": [
    "print('Cantidad de observaciones por tipo de persona y tamaño de la empresa')\n",
    "pd.crosstab(base['tamanio_empresa'].fillna('missing'), base['idtipo_persona'].fillna('missing'),dropna=False, margins=True)"
   ]
  },
  {
   "cell_type": "code",
   "execution_count": 94,
   "id": "41a1a424",
   "metadata": {
    "scrolled": true
   },
   "outputs": [
    {
     "name": "stdout",
     "output_type": "stream",
     "text": [
      "Cantidad de observaciones por tipo de persona y el sector económico de la empresa\n"
     ]
    },
    {
     "data": {
      "text/html": [
       "<div>\n",
       "<style scoped>\n",
       "    .dataframe tbody tr th:only-of-type {\n",
       "        vertical-align: middle;\n",
       "    }\n",
       "\n",
       "    .dataframe tbody tr th {\n",
       "        vertical-align: top;\n",
       "    }\n",
       "\n",
       "    .dataframe thead th {\n",
       "        text-align: right;\n",
       "    }\n",
       "</style>\n",
       "<table border=\"1\" class=\"dataframe\">\n",
       "  <thead>\n",
       "    <tr style=\"text-align: right;\">\n",
       "      <th>idtipo_persona</th>\n",
       "      <th>1.0</th>\n",
       "      <th>2.0</th>\n",
       "      <th>missing</th>\n",
       "      <th>All</th>\n",
       "    </tr>\n",
       "    <tr>\n",
       "      <th>sector_empresa</th>\n",
       "      <th></th>\n",
       "      <th></th>\n",
       "      <th></th>\n",
       "      <th></th>\n",
       "    </tr>\n",
       "  </thead>\n",
       "  <tbody>\n",
       "    <tr>\n",
       "      <th>ACT DE ASESORAMIENTO EMP Y EN MATERIA DE GESTION</th>\n",
       "      <td>0</td>\n",
       "      <td>1223</td>\n",
       "      <td>0</td>\n",
       "      <td>1223</td>\n",
       "    </tr>\n",
       "    <tr>\n",
       "      <th>ACT DE CONTAB TENEDURIA DE LIBROS Y AUDIT ASESORAMIENTO EN MAT DE IMP</th>\n",
       "      <td>0</td>\n",
       "      <td>151</td>\n",
       "      <td>0</td>\n",
       "      <td>151</td>\n",
       "    </tr>\n",
       "    <tr>\n",
       "      <th>ACT DE DISCOTECAS SALAS DE BAILES PARQUES DE DIVERSION Y CENTROS SIMILARES</th>\n",
       "      <td>0</td>\n",
       "      <td>62</td>\n",
       "      <td>0</td>\n",
       "      <td>62</td>\n",
       "    </tr>\n",
       "    <tr>\n",
       "      <th>ACTIVIDADES DE ARQUITECTURA E INGENIERIA Y ACTIV CONEXAS DE ASESOR TEC</th>\n",
       "      <td>0</td>\n",
       "      <td>1500</td>\n",
       "      <td>0</td>\n",
       "      <td>1500</td>\n",
       "    </tr>\n",
       "    <tr>\n",
       "      <th>ACTIVIDADES DE INVESTIGACION Y SEGURIDAD</th>\n",
       "      <td>0</td>\n",
       "      <td>224</td>\n",
       "      <td>0</td>\n",
       "      <td>224</td>\n",
       "    </tr>\n",
       "    <tr>\n",
       "      <th>ACTIVIDADES DE LIMPIEZA DE EDIFICACIONES (INCLUYE LA DESINFECCION)</th>\n",
       "      <td>0</td>\n",
       "      <td>87</td>\n",
       "      <td>0</td>\n",
       "      <td>87</td>\n",
       "    </tr>\n",
       "    <tr>\n",
       "      <th>ACTIVIDADES JURIDICAS Y NOTARIALES</th>\n",
       "      <td>0</td>\n",
       "      <td>78</td>\n",
       "      <td>0</td>\n",
       "      <td>78</td>\n",
       "    </tr>\n",
       "    <tr>\n",
       "      <th>ALCALDIAS MUNICIPALES</th>\n",
       "      <td>0</td>\n",
       "      <td>215</td>\n",
       "      <td>0</td>\n",
       "      <td>215</td>\n",
       "    </tr>\n",
       "    <tr>\n",
       "      <th>ALQUILER DE OTROS TIPOS DE MAQUINARIA Y EQUIPO SIN OPERARIO</th>\n",
       "      <td>0</td>\n",
       "      <td>33</td>\n",
       "      <td>0</td>\n",
       "      <td>33</td>\n",
       "    </tr>\n",
       "    <tr>\n",
       "      <th>CONSULTORES DE EQUIPO Y PROGRAMAS DE INFORMATICA</th>\n",
       "      <td>0</td>\n",
       "      <td>203</td>\n",
       "      <td>0</td>\n",
       "      <td>203</td>\n",
       "    </tr>\n",
       "    <tr>\n",
       "      <th>EMPLEADOS DEL SECTOR PRIVADO</th>\n",
       "      <td>0</td>\n",
       "      <td>387</td>\n",
       "      <td>0</td>\n",
       "      <td>387</td>\n",
       "    </tr>\n",
       "    <tr>\n",
       "      <th>ENSENANZA FORMAL</th>\n",
       "      <td>0</td>\n",
       "      <td>769</td>\n",
       "      <td>0</td>\n",
       "      <td>769</td>\n",
       "    </tr>\n",
       "    <tr>\n",
       "      <th>ENSENANZA NO FORMAL</th>\n",
       "      <td>0</td>\n",
       "      <td>40</td>\n",
       "      <td>0</td>\n",
       "      <td>40</td>\n",
       "    </tr>\n",
       "    <tr>\n",
       "      <th>ORGANIZACIONES DE ASISTENCIA SOCIAL</th>\n",
       "      <td>0</td>\n",
       "      <td>34</td>\n",
       "      <td>0</td>\n",
       "      <td>34</td>\n",
       "    </tr>\n",
       "    <tr>\n",
       "      <th>ORGANIZACIONES RELIGIOSAS</th>\n",
       "      <td>0</td>\n",
       "      <td>114</td>\n",
       "      <td>0</td>\n",
       "      <td>114</td>\n",
       "    </tr>\n",
       "    <tr>\n",
       "      <th>OTRAS ACTIVIDADES DE SERVICIOS NO CLASIFICADOS PREVIAMENTE</th>\n",
       "      <td>0</td>\n",
       "      <td>236</td>\n",
       "      <td>0</td>\n",
       "      <td>236</td>\n",
       "    </tr>\n",
       "    <tr>\n",
       "      <th>OTRAS INSTITUCIONES PUBLICAS</th>\n",
       "      <td>0</td>\n",
       "      <td>19</td>\n",
       "      <td>0</td>\n",
       "      <td>19</td>\n",
       "    </tr>\n",
       "    <tr>\n",
       "      <th>OTRAS PERSONAS NATURALES</th>\n",
       "      <td>0</td>\n",
       "      <td>220</td>\n",
       "      <td>0</td>\n",
       "      <td>220</td>\n",
       "    </tr>\n",
       "    <tr>\n",
       "      <th>OTROS SERV RELACIONADOS CON LA SALUD HUMANA NO CLASIF PREVIAMENTE</th>\n",
       "      <td>0</td>\n",
       "      <td>205</td>\n",
       "      <td>0</td>\n",
       "      <td>205</td>\n",
       "    </tr>\n",
       "    <tr>\n",
       "      <th>OTROS SERVICIOS A EMPRESAS NO CLASIFICADAS PREVIAMENTE</th>\n",
       "      <td>0</td>\n",
       "      <td>5</td>\n",
       "      <td>0</td>\n",
       "      <td>5</td>\n",
       "    </tr>\n",
       "    <tr>\n",
       "      <th>OTROS SERVICIOS DE REPARACION NO CLASIFICADOS PREVIAMENTE</th>\n",
       "      <td>0</td>\n",
       "      <td>432</td>\n",
       "      <td>0</td>\n",
       "      <td>432</td>\n",
       "    </tr>\n",
       "    <tr>\n",
       "      <th>OTROS TIPOS DE ORGANIZACIONES NO CLASIFICADAS PREVIAMENTE</th>\n",
       "      <td>0</td>\n",
       "      <td>24</td>\n",
       "      <td>0</td>\n",
       "      <td>24</td>\n",
       "    </tr>\n",
       "    <tr>\n",
       "      <th>PUBLICIDAD</th>\n",
       "      <td>0</td>\n",
       "      <td>141</td>\n",
       "      <td>0</td>\n",
       "      <td>141</td>\n",
       "    </tr>\n",
       "    <tr>\n",
       "      <th>REPARACION DE LLANTAS PARA VEHICULOS</th>\n",
       "      <td>0</td>\n",
       "      <td>564</td>\n",
       "      <td>0</td>\n",
       "      <td>564</td>\n",
       "    </tr>\n",
       "    <tr>\n",
       "      <th>SAUNAS BANOS TURCOS MASAJES Y SIMILARES</th>\n",
       "      <td>0</td>\n",
       "      <td>27</td>\n",
       "      <td>0</td>\n",
       "      <td>27</td>\n",
       "    </tr>\n",
       "    <tr>\n",
       "      <th>SERVICIOS HOSPITALARIOS</th>\n",
       "      <td>0</td>\n",
       "      <td>17</td>\n",
       "      <td>0</td>\n",
       "      <td>17</td>\n",
       "    </tr>\n",
       "    <tr>\n",
       "      <th>SERVICIOS MEDICOS</th>\n",
       "      <td>0</td>\n",
       "      <td>35</td>\n",
       "      <td>0</td>\n",
       "      <td>35</td>\n",
       "    </tr>\n",
       "    <tr>\n",
       "      <th>SERVICIOS ODONTOLOGICOS</th>\n",
       "      <td>0</td>\n",
       "      <td>18</td>\n",
       "      <td>0</td>\n",
       "      <td>18</td>\n",
       "    </tr>\n",
       "    <tr>\n",
       "      <th>SERVICIOS VETERINARIOS</th>\n",
       "      <td>0</td>\n",
       "      <td>365</td>\n",
       "      <td>0</td>\n",
       "      <td>365</td>\n",
       "    </tr>\n",
       "    <tr>\n",
       "      <th>missing</th>\n",
       "      <td>16527314</td>\n",
       "      <td>64942</td>\n",
       "      <td>3118</td>\n",
       "      <td>16595374</td>\n",
       "    </tr>\n",
       "    <tr>\n",
       "      <th>All</th>\n",
       "      <td>16527314</td>\n",
       "      <td>72370</td>\n",
       "      <td>3118</td>\n",
       "      <td>16602802</td>\n",
       "    </tr>\n",
       "  </tbody>\n",
       "</table>\n",
       "</div>"
      ],
      "text/plain": [
       "idtipo_persona                                           1.0    2.0  missing  \\\n",
       "sector_empresa                                                                 \n",
       "ACT DE ASESORAMIENTO EMP Y EN MATERIA DE GESTIO...         0   1223        0   \n",
       "ACT DE CONTAB TENEDURIA DE LIBROS Y AUDIT ASESO...         0    151        0   \n",
       "ACT DE DISCOTECAS SALAS DE BAILES PARQUES DE DI...         0     62        0   \n",
       "ACTIVIDADES DE ARQUITECTURA E INGENIERIA Y ACTI...         0   1500        0   \n",
       "ACTIVIDADES DE INVESTIGACION Y SEGURIDAD       ...         0    224        0   \n",
       "ACTIVIDADES DE LIMPIEZA DE EDIFICACIONES (INCLU...         0     87        0   \n",
       "ACTIVIDADES JURIDICAS Y NOTARIALES             ...         0     78        0   \n",
       "ALCALDIAS MUNICIPALES                          ...         0    215        0   \n",
       "ALQUILER DE OTROS TIPOS DE MAQUINARIA Y EQUIPO ...         0     33        0   \n",
       "CONSULTORES DE EQUIPO Y PROGRAMAS DE INFORMATIC...         0    203        0   \n",
       "EMPLEADOS DEL SECTOR PRIVADO                   ...         0    387        0   \n",
       "ENSENANZA FORMAL                               ...         0    769        0   \n",
       "ENSENANZA NO FORMAL                            ...         0     40        0   \n",
       "ORGANIZACIONES DE ASISTENCIA SOCIAL            ...         0     34        0   \n",
       "ORGANIZACIONES RELIGIOSAS                      ...         0    114        0   \n",
       "OTRAS ACTIVIDADES DE SERVICIOS NO CLASIFICADOS ...         0    236        0   \n",
       "OTRAS INSTITUCIONES PUBLICAS                   ...         0     19        0   \n",
       "OTRAS PERSONAS NATURALES                       ...         0    220        0   \n",
       "OTROS SERV RELACIONADOS CON LA SALUD HUMANA NO ...         0    205        0   \n",
       "OTROS SERVICIOS A EMPRESAS NO CLASIFICADAS PREV...         0      5        0   \n",
       "OTROS SERVICIOS DE REPARACION NO CLASIFICADOS P...         0    432        0   \n",
       "OTROS TIPOS DE ORGANIZACIONES NO CLASIFICADAS P...         0     24        0   \n",
       "PUBLICIDAD                                     ...         0    141        0   \n",
       "REPARACION DE LLANTAS PARA VEHICULOS           ...         0    564        0   \n",
       "SAUNAS BANOS TURCOS MASAJES Y SIMILARES        ...         0     27        0   \n",
       "SERVICIOS HOSPITALARIOS                        ...         0     17        0   \n",
       "SERVICIOS MEDICOS                              ...         0     35        0   \n",
       "SERVICIOS ODONTOLOGICOS                        ...         0     18        0   \n",
       "SERVICIOS VETERINARIOS                         ...         0    365        0   \n",
       "missing                                             16527314  64942     3118   \n",
       "All                                                 16527314  72370     3118   \n",
       "\n",
       "idtipo_persona                                           All  \n",
       "sector_empresa                                                \n",
       "ACT DE ASESORAMIENTO EMP Y EN MATERIA DE GESTIO...      1223  \n",
       "ACT DE CONTAB TENEDURIA DE LIBROS Y AUDIT ASESO...       151  \n",
       "ACT DE DISCOTECAS SALAS DE BAILES PARQUES DE DI...        62  \n",
       "ACTIVIDADES DE ARQUITECTURA E INGENIERIA Y ACTI...      1500  \n",
       "ACTIVIDADES DE INVESTIGACION Y SEGURIDAD       ...       224  \n",
       "ACTIVIDADES DE LIMPIEZA DE EDIFICACIONES (INCLU...        87  \n",
       "ACTIVIDADES JURIDICAS Y NOTARIALES             ...        78  \n",
       "ALCALDIAS MUNICIPALES                          ...       215  \n",
       "ALQUILER DE OTROS TIPOS DE MAQUINARIA Y EQUIPO ...        33  \n",
       "CONSULTORES DE EQUIPO Y PROGRAMAS DE INFORMATIC...       203  \n",
       "EMPLEADOS DEL SECTOR PRIVADO                   ...       387  \n",
       "ENSENANZA FORMAL                               ...       769  \n",
       "ENSENANZA NO FORMAL                            ...        40  \n",
       "ORGANIZACIONES DE ASISTENCIA SOCIAL            ...        34  \n",
       "ORGANIZACIONES RELIGIOSAS                      ...       114  \n",
       "OTRAS ACTIVIDADES DE SERVICIOS NO CLASIFICADOS ...       236  \n",
       "OTRAS INSTITUCIONES PUBLICAS                   ...        19  \n",
       "OTRAS PERSONAS NATURALES                       ...       220  \n",
       "OTROS SERV RELACIONADOS CON LA SALUD HUMANA NO ...       205  \n",
       "OTROS SERVICIOS A EMPRESAS NO CLASIFICADAS PREV...         5  \n",
       "OTROS SERVICIOS DE REPARACION NO CLASIFICADOS P...       432  \n",
       "OTROS TIPOS DE ORGANIZACIONES NO CLASIFICADAS P...        24  \n",
       "PUBLICIDAD                                     ...       141  \n",
       "REPARACION DE LLANTAS PARA VEHICULOS           ...       564  \n",
       "SAUNAS BANOS TURCOS MASAJES Y SIMILARES        ...        27  \n",
       "SERVICIOS HOSPITALARIOS                        ...        17  \n",
       "SERVICIOS MEDICOS                              ...        35  \n",
       "SERVICIOS ODONTOLOGICOS                        ...        18  \n",
       "SERVICIOS VETERINARIOS                         ...       365  \n",
       "missing                                             16595374  \n",
       "All                                                 16602802  "
      ]
     },
     "execution_count": 94,
     "metadata": {},
     "output_type": "execute_result"
    }
   ],
   "source": [
    "print('Cantidad de observaciones por tipo de persona y el sector económico de la empresa')\n",
    "pd.crosstab(base['sector_empresa'].fillna('missing'), base['idtipo_persona'].fillna('missing'),dropna=False, margins=True)"
   ]
  },
  {
   "cell_type": "markdown",
   "id": "0f096942",
   "metadata": {},
   "source": [
    "<div class=\"alert alert-block alert-info\">    \n",
    "<b> Preguntas sobre valores nulos </b>:  \n",
    "    \n",
    "* <p> Nos interesa entender por qué hay datos missing en las siguientes variables: </p>\n",
    "<p> 1. idtipo_persona </p> \n",
    "<p> 2. plazo </p> \n",
    "<p> 3. idtipo_persona </p> \n",
    "<p> 4. fecha_otorgamiento </p> \n",
    "<p> 5. fecha_vencimiento </p> \n",
    "<p> 6. tipo_crédito </p> \n",
    "<p> 7. tipo_entidad </p> \n",
    "    \n",
    "    \n",
    "* <p> ¿Por qué hay personas naturales sin información en sexo?, ¿Hay manera de conseguir estos datos? </p> \n",
    "* <p> ¿Por qué hay personas jurídicas sin información en el tamaño de la empresa?, ¿Hay manera de conseguir estos datos? </p>     \n",
    "* <p> ¿Por qué hay personas jurídicas sin información en el sector económico?, ¿Hay manera de conseguir estos datos? </p>     \n",
    "</div>"
   ]
  },
  {
   "cell_type": "markdown",
   "id": "a1b379b6",
   "metadata": {},
   "source": [
    "<div class=\"alert-success\">\n",
    "<b> Respuesta: </b>\n",
    "    \n",
    "</div>\n",
    "   "
   ]
  },
  {
   "cell_type": "markdown",
   "id": "cc2ec9ce",
   "metadata": {
    "id": "cc2ec9ce"
   },
   "source": [
    "- 2.4 Revisión Duplicados: \n",
    "* Creamos un reporte de los datos duplicados en la base.\n",
    "* Consideramos duplicidad en la totalidad de las variables. \n",
    "\n",
    "* No conviene usar esta estrategia, es muy lenta: base['duplicados'] = base.groupby('ID_UNICO_CRED_str', group_keys=False).apply(lambda x: x)"
   ]
  },
  {
   "cell_type": "code",
   "execution_count": null,
   "id": "e4cae309",
   "metadata": {
    "id": "728e4ead",
    "outputId": "e0046118-439e-45d3-db4a-2bcda1b41b71"
   },
   "outputs": [],
   "source": [
    "base_dup = base.copy()\n",
    "duplicados = base_dup[base_dup.duplicated()]\n",
    "base.drop_duplicates(keep='first', inplace=True)"
   ]
  },
  {
   "cell_type": "code",
   "execution_count": 54,
   "id": "acdeec6d",
   "metadata": {},
   "outputs": [
    {
     "name": "stdout",
     "output_type": "stream",
     "text": [
      "Número de observaciones duplicadas 52086\n",
      "Número de refererencias únicas con duplicados 45055\n"
     ]
    }
   ],
   "source": [
    "print('Número de observaciones duplicadas '+ str(len(duplicados)))\n",
    "print('Número de refererencias únicas con duplicados '+ str(duplicados['ID_UNICO_CRED_str'].nunique()))"
   ]
  },
  {
   "cell_type": "code",
   "execution_count": null,
   "id": "64e773d0",
   "metadata": {
    "id": "64e773d0"
   },
   "outputs": [],
   "source": [
    "base.drop(['dup', '_merge'], axis=1, inplace=True)"
   ]
  },
  {
   "cell_type": "markdown",
   "id": "0079362a",
   "metadata": {},
   "source": [
    "<div class=\"alert-info\">\n",
    "<b> Pregunta </b>:  \n",
    "    \n",
    "* ¿Cuál es el motivo de la duplicidad de datos en la muestra?\n",
    "</div> "
   ]
  },
  {
   "cell_type": "markdown",
   "id": "48e7f70a",
   "metadata": {},
   "source": [
    "<div class=\"alert-success\">\n",
    "<b> Respuesta: </b>\n",
    "    \n",
    "</div>\n",
    "   "
   ]
  },
  {
   "cell_type": "markdown",
   "id": "3a6e9e46",
   "metadata": {
    "id": "3a6e9e46"
   },
   "source": [
    "- 2.5 Archivo datos duplicados eliminados\n",
    "* Exportamos en un csv todas la serie del 'ID_UNICO_CRED_str' que presentan duplicados. "
   ]
  },
  {
   "cell_type": "code",
   "execution_count": 55,
   "id": "bb3128bf",
   "metadata": {
    "id": "bb3128bf"
   },
   "outputs": [],
   "source": [
    "duplicados = duplicados[['ID_UNICO_CRED_str']]\n",
    "duplicados.drop_duplicates(keep='first', inplace=True) \n",
    "duplicados_id = pd.merge(duplicados, base, how='left', on='ID_UNICO_CRED_str')"
   ]
  },
  {
   "cell_type": "code",
   "execution_count": 58,
   "id": "ee6c23b7",
   "metadata": {
    "id": "ee6c23b7",
    "outputId": "a6237f23-7760-473c-c321-1ff0b1249cdc"
   },
   "outputs": [
    {
     "data": {
      "text/plain": [
       "45055"
      ]
     },
     "execution_count": 58,
     "metadata": {},
     "output_type": "execute_result"
    }
   ],
   "source": [
    "len(duplicados_id)\n",
    "duplicados_id['ID_UNICO_CRED_str'].nunique()"
   ]
  },
  {
   "cell_type": "code",
   "execution_count": 59,
   "id": "95d3f9a2",
   "metadata": {
    "id": "95d3f9a2"
   },
   "outputs": [],
   "source": [
    "duplicados_id.to_csv(str(data)+'EFX F3 ES 010 010 Limpieza Base - duplicados.csv', index=False)  "
   ]
  },
  {
   "cell_type": "code",
   "execution_count": null,
   "id": "04bd4bfa",
   "metadata": {
    "id": "04bd4bfa"
   },
   "outputs": [],
   "source": [
    "del duplicados_id"
   ]
  },
  {
   "cell_type": "markdown",
   "id": "db01825f",
   "metadata": {
    "id": "db01825f"
   },
   "source": [
    "- 2.6 Revisión par (ID_UNICO_CRED_str, periodo_infor) duplicados"
   ]
  },
  {
   "cell_type": "code",
   "execution_count": 60,
   "id": "82f25520",
   "metadata": {
    "id": "82f25520"
   },
   "outputs": [],
   "source": [
    "duplicados_periodo = base_dup[base_dup.duplicated(subset=['ID_UNICO_CRED_str', 'periodo_informacion'])]"
   ]
  },
  {
   "cell_type": "code",
   "execution_count": 63,
   "id": "3a74e055",
   "metadata": {},
   "outputs": [
    {
     "name": "stdout",
     "output_type": "stream",
     "text": [
      "Número de observaciones con el par (ID_UNICO_CRED_str, periodo_infor) duplicados 115189\n",
      "Número de refererencias únicas con (ID_UNICO_CRED_str, periodo_infor) duplicados 61435\n"
     ]
    }
   ],
   "source": [
    "print('Número de observaciones con el par (ID_UNICO_CRED_str, periodo_infor) duplicados '+ str(len(duplicados_periodo)))\n",
    "print('Número de refererencias únicas con (ID_UNICO_CRED_str, periodo_infor) duplicados '+ str(duplicados_periodo['ID_UNICO_CRED_str'].nunique()))"
   ]
  },
  {
   "cell_type": "code",
   "execution_count": 64,
   "id": "022832da",
   "metadata": {},
   "outputs": [],
   "source": [
    "duplicados_periodo = base[['ID_UNICO_CRED_str']]\n",
    "duplicados_periodo.drop_duplicates(keep='first', inplace=True) \n",
    "duplicados_id_periodo = pd.merge(duplicados_periodo, base, how='left', on='ID_UNICO_CRED_str')"
   ]
  },
  {
   "cell_type": "markdown",
   "id": "04bbf425",
   "metadata": {},
   "source": [
    "- 2.7 Archivo de datos duplicados"
   ]
  },
  {
   "cell_type": "code",
   "execution_count": 65,
   "id": "041d103e",
   "metadata": {
    "id": "041d103e"
   },
   "outputs": [],
   "source": [
    "duplicados_id_periodo.to_csv(str(data)+'EFX F3 ES 010 010 Limpieza Base - periodo_infor_duplicado_mismo_ID_UNICO.csv', index=False) "
   ]
  },
  {
   "cell_type": "markdown",
   "id": "63594c54",
   "metadata": {
    "id": "63594c54"
   },
   "source": [
    "<div class=\"alert alert-block alert-info\">    \n",
    "<b> Pregunta: </b>\n",
    "    \n",
    "* ¿Por qué hay observaciones con el par  (ID_UNICO_CRED_str, periodo_infor) duplicado?\n",
    "    \n",
    "* ¿Con qué criterio podemos distinguir entre las observaciones duplicadas?\n",
    "</div>"
   ]
  },
  {
   "cell_type": "markdown",
   "id": "f5079133",
   "metadata": {},
   "source": [
    "<div class=\"alert-success\">\n",
    "<b> Respuesta: </b>\n",
    "    \n",
    "</div>\n",
    "   "
   ]
  },
  {
   "cell_type": "markdown",
   "id": "8a8b8f9a",
   "metadata": {
    "id": "8a8b8f9a"
   },
   "source": [
    "#### 3. Base crédito Decreciente de personas juridicas"
   ]
  },
  {
   "cell_type": "markdown",
   "id": "0e499a94",
   "metadata": {
    "id": "0e499a94"
   },
   "source": [
    "* 3.1 Selección de observaciones"
   ]
  },
  {
   "cell_type": "code",
   "execution_count": 96,
   "id": "45b7ee3b",
   "metadata": {
    "id": "45b7ee3b",
    "outputId": "710f6c0f-404c-4627-a25d-323720cf68b5"
   },
   "outputs": [
    {
     "data": {
      "text/plain": [
       "DECRECIENTE NO ROT.     6510504\n",
       "TARJETA DE CREDITO      3793919\n",
       "CREDITO DECRECIENTE     2763196\n",
       "missing                 1752852\n",
       "CREDITO ROTATIVO        1566562\n",
       "SOBREGIRO AUTORIZADO     213590\n",
       "SOBREGIRO OCASIONAL        1919\n",
       "FACTORAJE                   189\n",
       "NUEVO AMANECER               71\n",
       "Name: tipo_prestamo, dtype: int64"
      ]
     },
     "execution_count": 96,
     "metadata": {},
     "output_type": "execute_result"
    }
   ],
   "source": [
    "base['tipo_prestamo'].fillna('missing').value_counts()"
   ]
  },
  {
   "cell_type": "code",
   "execution_count": 68,
   "id": "47bc12d8",
   "metadata": {
    "id": "47bc12d8"
   },
   "outputs": [],
   "source": [
    "credito_dec = base.loc[base['tipo_prestamo']=='CREDITO DECRECIENTE']"
   ]
  },
  {
   "cell_type": "code",
   "execution_count": 69,
   "id": "7fdcd091",
   "metadata": {
    "id": "7fdcd091",
    "outputId": "e9581ea9-80b5-4584-cb93-620247509a6a"
   },
   "outputs": [
    {
     "data": {
      "text/html": [
       "<div>\n",
       "<style scoped>\n",
       "    .dataframe tbody tr th:only-of-type {\n",
       "        vertical-align: middle;\n",
       "    }\n",
       "\n",
       "    .dataframe tbody tr th {\n",
       "        vertical-align: top;\n",
       "    }\n",
       "\n",
       "    .dataframe thead th {\n",
       "        text-align: right;\n",
       "    }\n",
       "</style>\n",
       "<table border=\"1\" class=\"dataframe\">\n",
       "  <thead>\n",
       "    <tr style=\"text-align: right;\">\n",
       "      <th></th>\n",
       "      <th>idpersona</th>\n",
       "      <th>idpersona_str</th>\n",
       "      <th>ID_UNICO_CRED</th>\n",
       "      <th>ID_UNICO_CRED_str</th>\n",
       "      <th>periodo_informacion</th>\n",
       "      <th>peri_info_monthly</th>\n",
       "      <th>peri_info_y</th>\n",
       "      <th>peri_info_m</th>\n",
       "      <th>referencia_unica</th>\n",
       "      <th>id_acreedor</th>\n",
       "      <th>...</th>\n",
       "      <th>codi_dest</th>\n",
       "      <th>otorgante_publico_privado</th>\n",
       "      <th>regulada</th>\n",
       "      <th>tipo_entidad</th>\n",
       "      <th>ubicacion_geogrfica</th>\n",
       "      <th>obs_repetidas</th>\n",
       "      <th>periodo_informacion_100</th>\n",
       "      <th>peri_info_daily1</th>\n",
       "      <th>peri_info_dailylast</th>\n",
       "      <th>_merge</th>\n",
       "    </tr>\n",
       "  </thead>\n",
       "  <tbody>\n",
       "    <tr>\n",
       "      <th>16</th>\n",
       "      <td>16</td>\n",
       "      <td>16</td>\n",
       "      <td>3667221</td>\n",
       "      <td>16-2123819034          -4520-2017-11-17 00:00:00</td>\n",
       "      <td>201810</td>\n",
       "      <td>NaT</td>\n",
       "      <td>2018.0</td>\n",
       "      <td>19979200.0</td>\n",
       "      <td>2123819034</td>\n",
       "      <td>4520</td>\n",
       "      <td>...</td>\n",
       "      <td>100099</td>\n",
       "      <td></td>\n",
       "      <td>Regulada</td>\n",
       "      <td>BANCO</td>\n",
       "      <td></td>\n",
       "      <td>0</td>\n",
       "      <td>2018.099976</td>\n",
       "      <td>NaT</td>\n",
       "      <td>NaT</td>\n",
       "      <td>Matched (3)</td>\n",
       "    </tr>\n",
       "    <tr>\n",
       "      <th>17</th>\n",
       "      <td>16</td>\n",
       "      <td>16</td>\n",
       "      <td>3667221</td>\n",
       "      <td>16-2123819034          -4520-2017-11-17 00:00:00</td>\n",
       "      <td>201811</td>\n",
       "      <td>NaT</td>\n",
       "      <td>2018.0</td>\n",
       "      <td>19979300.0</td>\n",
       "      <td>2123819034</td>\n",
       "      <td>4520</td>\n",
       "      <td>...</td>\n",
       "      <td>100099</td>\n",
       "      <td></td>\n",
       "      <td>Regulada</td>\n",
       "      <td>BANCO</td>\n",
       "      <td></td>\n",
       "      <td>0</td>\n",
       "      <td>2018.109985</td>\n",
       "      <td>NaT</td>\n",
       "      <td>NaT</td>\n",
       "      <td>Matched (3)</td>\n",
       "    </tr>\n",
       "    <tr>\n",
       "      <th>18</th>\n",
       "      <td>16</td>\n",
       "      <td>16</td>\n",
       "      <td>3667221</td>\n",
       "      <td>16-2123819034          -4520-2017-11-17 00:00:00</td>\n",
       "      <td>201812</td>\n",
       "      <td>NaT</td>\n",
       "      <td>2018.0</td>\n",
       "      <td>19979400.0</td>\n",
       "      <td>2123819034</td>\n",
       "      <td>4520</td>\n",
       "      <td>...</td>\n",
       "      <td>100099</td>\n",
       "      <td></td>\n",
       "      <td>Regulada</td>\n",
       "      <td>BANCO</td>\n",
       "      <td></td>\n",
       "      <td>0</td>\n",
       "      <td>2018.119995</td>\n",
       "      <td>NaT</td>\n",
       "      <td>NaT</td>\n",
       "      <td>Matched (3)</td>\n",
       "    </tr>\n",
       "    <tr>\n",
       "      <th>19</th>\n",
       "      <td>16</td>\n",
       "      <td>16</td>\n",
       "      <td>3667221</td>\n",
       "      <td>16-2123819034          -4520-2017-11-17 00:00:00</td>\n",
       "      <td>201901</td>\n",
       "      <td>NaT</td>\n",
       "      <td>2019.0</td>\n",
       "      <td>19988200.0</td>\n",
       "      <td>2123819034</td>\n",
       "      <td>4520</td>\n",
       "      <td>...</td>\n",
       "      <td>100099</td>\n",
       "      <td></td>\n",
       "      <td>Regulada</td>\n",
       "      <td>BANCO</td>\n",
       "      <td></td>\n",
       "      <td>0</td>\n",
       "      <td>2019.010010</td>\n",
       "      <td>NaT</td>\n",
       "      <td>NaT</td>\n",
       "      <td>Matched (3)</td>\n",
       "    </tr>\n",
       "    <tr>\n",
       "      <th>20</th>\n",
       "      <td>16</td>\n",
       "      <td>16</td>\n",
       "      <td>3667221</td>\n",
       "      <td>16-2123819034          -4520-2017-11-17 00:00:00</td>\n",
       "      <td>201902</td>\n",
       "      <td>NaT</td>\n",
       "      <td>2019.0</td>\n",
       "      <td>19988300.0</td>\n",
       "      <td>2123819034</td>\n",
       "      <td>4520</td>\n",
       "      <td>...</td>\n",
       "      <td>100099</td>\n",
       "      <td></td>\n",
       "      <td>Regulada</td>\n",
       "      <td>BANCO</td>\n",
       "      <td></td>\n",
       "      <td>0</td>\n",
       "      <td>2019.020020</td>\n",
       "      <td>NaT</td>\n",
       "      <td>NaT</td>\n",
       "      <td>Matched (3)</td>\n",
       "    </tr>\n",
       "  </tbody>\n",
       "</table>\n",
       "<p>5 rows × 45 columns</p>\n",
       "</div>"
      ],
      "text/plain": [
       "    idpersona idpersona_str  ID_UNICO_CRED  \\\n",
       "16         16            16        3667221   \n",
       "17         16            16        3667221   \n",
       "18         16            16        3667221   \n",
       "19         16            16        3667221   \n",
       "20         16            16        3667221   \n",
       "\n",
       "                                   ID_UNICO_CRED_str  periodo_informacion  \\\n",
       "16  16-2123819034          -4520-2017-11-17 00:00:00               201810   \n",
       "17  16-2123819034          -4520-2017-11-17 00:00:00               201811   \n",
       "18  16-2123819034          -4520-2017-11-17 00:00:00               201812   \n",
       "19  16-2123819034          -4520-2017-11-17 00:00:00               201901   \n",
       "20  16-2123819034          -4520-2017-11-17 00:00:00               201902   \n",
       "\n",
       "   peri_info_monthly  peri_info_y  peri_info_m      referencia_unica  \\\n",
       "16               NaT       2018.0   19979200.0  2123819034             \n",
       "17               NaT       2018.0   19979300.0  2123819034             \n",
       "18               NaT       2018.0   19979400.0  2123819034             \n",
       "19               NaT       2019.0   19988200.0  2123819034             \n",
       "20               NaT       2019.0   19988300.0  2123819034             \n",
       "\n",
       "    id_acreedor  ... codi_dest  otorgante_publico_privado  regulada  \\\n",
       "16         4520  ...    100099                             Regulada   \n",
       "17         4520  ...    100099                             Regulada   \n",
       "18         4520  ...    100099                             Regulada   \n",
       "19         4520  ...    100099                             Regulada   \n",
       "20         4520  ...    100099                             Regulada   \n",
       "\n",
       "    tipo_entidad ubicacion_geogrfica obs_repetidas  periodo_informacion_100  \\\n",
       "16         BANCO                                 0              2018.099976   \n",
       "17         BANCO                                 0              2018.109985   \n",
       "18         BANCO                                 0              2018.119995   \n",
       "19         BANCO                                 0              2019.010010   \n",
       "20         BANCO                                 0              2019.020020   \n",
       "\n",
       "    peri_info_daily1  peri_info_dailylast       _merge  \n",
       "16               NaT                  NaT  Matched (3)  \n",
       "17               NaT                  NaT  Matched (3)  \n",
       "18               NaT                  NaT  Matched (3)  \n",
       "19               NaT                  NaT  Matched (3)  \n",
       "20               NaT                  NaT  Matched (3)  \n",
       "\n",
       "[5 rows x 45 columns]"
      ]
     },
     "execution_count": 69,
     "metadata": {},
     "output_type": "execute_result"
    }
   ],
   "source": [
    "credito_dec.head()"
   ]
  },
  {
   "cell_type": "code",
   "execution_count": 70,
   "id": "88bd4cea",
   "metadata": {
    "id": "88bd4cea",
    "outputId": "3234ec49-c55a-4332-ef6d-7ee38c912cfb"
   },
   "outputs": [
    {
     "data": {
      "text/plain": [
       "1.0    2752475\n",
       "2.0      10591\n",
       "Name: idtipo_persona, dtype: int64"
      ]
     },
     "execution_count": 70,
     "metadata": {},
     "output_type": "execute_result"
    }
   ],
   "source": [
    "credito_dec['idtipo_persona'].value_counts()"
   ]
  },
  {
   "cell_type": "code",
   "execution_count": 72,
   "id": "efb5f078",
   "metadata": {
    "id": "efb5f078"
   },
   "outputs": [],
   "source": [
    "credito_dec = credito_dec.loc[credito_dec['idtipo_persona']==2]"
   ]
  },
  {
   "cell_type": "code",
   "execution_count": 73,
   "id": "e7a87f83",
   "metadata": {},
   "outputs": [
    {
     "name": "stdout",
     "output_type": "stream",
     "text": [
      "Número de observaciones en la base crédito decreciente 10591\n",
      "Número de refererencias en la base crédito decreciente  725\n"
     ]
    }
   ],
   "source": [
    "print('Número de observaciones en la base crédito decreciente '+ str(len(credito_dec)))\n",
    "print('Número de refererencias en la base crédito decreciente  '+ str(credito_dec['ID_UNICO_CRED_str'].nunique()))"
   ]
  },
  {
   "cell_type": "markdown",
   "id": "9a0ae614",
   "metadata": {},
   "source": [
    "<div class=\"alert alert-block alert-info\">    \n",
    "<b> Pregunta: </b>\n",
    "    \n",
    "* ¿Creen que es correcto el número de referencias?\n",
    "\n",
    "* ¿Puede que de los 1.752.852 datos missing en el tipo de crédito hayan créditos decrecientes? \n",
    "</div>"
   ]
  },
  {
   "cell_type": "markdown",
   "id": "ac7c4d9a",
   "metadata": {},
   "source": [
    "<div class=\"alert-success\">\n",
    "<b> Respuesta: </b>\n",
    "    \n",
    "</div>"
   ]
  },
  {
   "cell_type": "markdown",
   "id": "05d8a8db",
   "metadata": {
    "id": "05d8a8db"
   },
   "source": [
    "* 3.2 Selección variables de interés"
   ]
  },
  {
   "cell_type": "code",
   "execution_count": 97,
   "id": "bbd88d2c",
   "metadata": {
    "id": "bbd88d2c"
   },
   "outputs": [],
   "source": [
    "credito_dec =  credito_dec[['idpersona', 'ID_UNICO_CRED_str', 'id_acreedor', 'referencia_unica', 'idtipo_persona', 'sector_empresa', \n",
    "'tamanio_empresa', 'otorgante_publico_privado', 'regulada', 'calificacion_riesgo', 'fecha_otorgamiento',\n",
    "'fecha_vencimiento','fecha_inicio_mora', 'periodo_informacion', 'monto', 'saldo', 'plazo', 'cuota', 'saldo_mora', \n",
    "'tipo_credito', 'tipo_prestamo', 'estado_credito', 'sexo']]\n"
   ]
  },
  {
   "cell_type": "markdown",
   "id": "76fe4bcb",
   "metadata": {
    "id": "76fe4bcb"
   },
   "source": [
    "* 3.3 Variables de fechas a formato %td\n",
    "* Transformar las variables asociadas a priodos de info en formato %td (to date)"
   ]
  },
  {
   "cell_type": "code",
   "execution_count": 98,
   "id": "083e0aa7",
   "metadata": {
    "id": "083e0aa7",
    "outputId": "691c77d2-1c33-4b45-b2be-1dabab96b1c4"
   },
   "outputs": [
    {
     "data": {
      "text/plain": [
       "244   2016-01-08\n",
       "245   2016-01-08\n",
       "246   2016-01-08\n",
       "247   2016-01-08\n",
       "248   2016-01-08\n",
       "Name: fecha_otorgamiento, dtype: datetime64[ns]"
      ]
     },
     "execution_count": 98,
     "metadata": {},
     "output_type": "execute_result"
    }
   ],
   "source": [
    "credito_dec['fecha_otorgamiento'].head()"
   ]
  },
  {
   "cell_type": "code",
   "execution_count": 99,
   "id": "b1508277",
   "metadata": {
    "id": "b1508277"
   },
   "outputs": [],
   "source": [
    "credito_dec['fecha_otorgamiento'] = pd.to_datetime(credito_dec['fecha_otorgamiento'], dayfirst=True)\n",
    "credito_dec['fecha_vencimiento'] = pd.to_datetime(credito_dec['fecha_vencimiento'], dayfirst=True)\n",
    "credito_dec['fecha_inicio_mora'] = pd.to_datetime(credito_dec['fecha_inicio_mora'], dayfirst=True)"
   ]
  },
  {
   "cell_type": "code",
   "execution_count": 100,
   "id": "51ef8a5c",
   "metadata": {
    "id": "51ef8a5c",
    "outputId": "d3734535-1d1b-44fa-cc95-77a51be0717d"
   },
   "outputs": [
    {
     "data": {
      "text/plain": [
       "244   2016-01-08\n",
       "245   2016-01-08\n",
       "246   2016-01-08\n",
       "247   2016-01-08\n",
       "248   2016-01-08\n",
       "Name: fecha_otorgamiento, dtype: datetime64[ns]"
      ]
     },
     "execution_count": 100,
     "metadata": {},
     "output_type": "execute_result"
    }
   ],
   "source": [
    "credito_dec['fecha_otorgamiento'].head()"
   ]
  },
  {
   "cell_type": "markdown",
   "id": "a201a21b",
   "metadata": {
    "id": "a201a21b"
   },
   "source": [
    "* 3.4 Base créditos decrecientes personas jurídicas"
   ]
  },
  {
   "cell_type": "code",
   "execution_count": 101,
   "id": "3f49a623",
   "metadata": {
    "id": "3f49a623"
   },
   "outputs": [],
   "source": [
    "credito_dec.to_csv(str(data)+'EFX F3 ES 010 010 Limpieza Base', index=False) "
   ]
  },
  {
   "cell_type": "markdown",
   "id": "dd69e5c5",
   "metadata": {
    "id": "dd69e5c5"
   },
   "source": [
    "#### 4. Revisión créditos Decrecientes por identificador\n",
    "* Casos de id con observaciones únicas."
   ]
  },
  {
   "cell_type": "code",
   "execution_count": 104,
   "id": "907edcca",
   "metadata": {},
   "outputs": [],
   "source": [
    "obs_unica = credito_dec.loc[credito_dec['N'] == 1]"
   ]
  },
  {
   "cell_type": "code",
   "execution_count": 105,
   "id": "085fee26",
   "metadata": {},
   "outputs": [
    {
     "data": {
      "text/plain": [
       "59"
      ]
     },
     "execution_count": 105,
     "metadata": {},
     "output_type": "execute_result"
    }
   ],
   "source": [
    "len(obs_unica)"
   ]
  },
  {
   "cell_type": "code",
   "execution_count": 108,
   "id": "63b0d437",
   "metadata": {
    "scrolled": true
   },
   "outputs": [
    {
     "data": {
      "text/plain": [
       "VIGENTE      32\n",
       "CANCELADO    26\n",
       "SANEADO       1\n",
       "Name: estado_credito, dtype: int64"
      ]
     },
     "execution_count": 108,
     "metadata": {},
     "output_type": "execute_result"
    }
   ],
   "source": [
    "obs_unica['estado_credito'].value_counts()"
   ]
  },
  {
   "cell_type": "code",
   "execution_count": 130,
   "id": "5501e9f2",
   "metadata": {},
   "outputs": [
    {
     "data": {
      "text/plain": [
       "202109    13\n",
       "201811     5\n",
       "202006     2\n",
       "201902     2\n",
       "201906     1\n",
       "202009     1\n",
       "202011     1\n",
       "202101     1\n",
       "202012     1\n",
       "201911     1\n",
       "202001     1\n",
       "201810     1\n",
       "201905     1\n",
       "201908     1\n",
       "Name: periodo_informacion, dtype: int64"
      ]
     },
     "execution_count": 130,
     "metadata": {},
     "output_type": "execute_result"
    }
   ],
   "source": [
    "obs_unica.loc[obs_unica['estado_credito']=='VIGENTE']['periodo_informacion'].value_counts()"
   ]
  },
  {
   "cell_type": "markdown",
   "id": "13dc6fc1",
   "metadata": {},
   "source": [
    "<div class=\"alert alert-block alert-info\">    \n",
    "<b> Pregunta: </b>\n",
    "    \n",
    "* ¿A qué se deben las observaciones únicas (que no terminan el 202109)?\n",
    "</div>"
   ]
  },
  {
   "cell_type": "markdown",
   "id": "3185cb43",
   "metadata": {},
   "source": [
    "<div class=\"alert-success\">\n",
    "<b> Respuesta: </b>\n",
    "    \n",
    "</div>"
   ]
  },
  {
   "cell_type": "markdown",
   "id": "0887b7a8",
   "metadata": {
    "id": "0887b7a8"
   },
   "source": [
    "* 4.1 Plazo del crédito"
   ]
  },
  {
   "cell_type": "code",
   "execution_count": 81,
   "id": "d1b8b5eb",
   "metadata": {
    "id": "d1b8b5eb",
    "outputId": "5468c8e3-2eed-40c0-f7e2-f4afcb6ef975",
    "scrolled": true
   },
   "outputs": [
    {
     "data": {
      "image/png": "[encoded data removed]",
      "text/plain": [
       "<Figure size 500x500 with 1 Axes>"
      ]
     },
     "metadata": {},
     "output_type": "display_data"
    }
   ],
   "source": [
    "plt.figure(figsize=(5,5))\n",
    "sns.boxplot(x='calificacion_riesgo', y='plazo', data=credito_dec.loc[credito_dec['plazo']>0], palette=\"Reds\").set(\n",
    "    xlabel='Clasificación de Riesgo', ylabel='Plazo del crédito',\n",
    "    title='Box plot plazo de los créditos por clasificación de riesgo')\n",
    "plt.show()"
   ]
  },
  {
   "cell_type": "code",
   "execution_count": null,
   "id": "9e0eab1c",
   "metadata": {
    "id": "9e0eab1c",
    "outputId": "6ad395e9-e295-4765-aadc-89be67e7133c"
   },
   "outputs": [
    {
     "data": {
      "image/png": "[encoded data removed]",
      "text/plain": [
       "<Figure size 500x500 with 1 Axes>"
      ]
     },
     "metadata": {},
     "output_type": "display_data"
    }
   ],
   "source": [
    "plt.figure(figsize=(5,5))\n",
    "sns.boxplot(x='tamanio_empresa', y='plazo', data=credito_dec.loc[credito_dec['plazo']>0], palette=\"Blues\").set(\n",
    "    xlabel='Tamaño de la empresa', ylabel='Plazo del crédito', title='Box plot plazo de los créditos por tamaño de la empresa')\n",
    "plt.show()"
   ]
  },
  {
   "cell_type": "markdown",
   "id": "e1bc5b1d",
   "metadata": {
    "id": "e1bc5b1d"
   },
   "source": [
    "* 4.1.1 Plazos nulos o iguales a 0"
   ]
  },
  {
   "cell_type": "code",
   "execution_count": null,
   "id": "22c01105",
   "metadata": {
    "id": "22c01105",
    "outputId": "de375fa5-2ee6-4db1-e951-3c2565049ac6"
   },
   "outputs": [
    {
     "data": {
      "text/plain": [
       "60.0     1742\n",
       "36.0     1390\n",
       "120.0    1107\n",
       "48.0      996\n",
       "180.0     793\n",
       "         ... \n",
       "74.0        1\n",
       "158.0       1\n",
       "73.0        1\n",
       "86.0        1\n",
       "239.0       1\n",
       "Name: plazo, Length: 95, dtype: int64"
      ]
     },
     "execution_count": 116,
     "metadata": {},
     "output_type": "execute_result"
    }
   ],
   "source": [
    "credito_dec['plazo'].value_counts()"
   ]
  },
  {
   "cell_type": "code",
   "execution_count": 122,
   "id": "b1c8c8cb",
   "metadata": {},
   "outputs": [
    {
     "name": "stdout",
     "output_type": "stream",
     "text": [
      "valor mínimo de la variable plazo -1056.0 y el mayor valor es 263.0\n",
      "Casos de periodos negativos 3\n"
     ]
    }
   ],
   "source": [
    "print('valor mínimo de la variable plazo ' + str(min(credito_dec['plazo']))+ ' y el mayor valor es '+ str(max(credito_dec['plazo'])))\n",
    "print('Casos de periodos negativos '+ str(len(credito_dec.loc[credito_dec['plazo']<=0])))"
   ]
  },
  {
   "cell_type": "markdown",
   "id": "ffee415d",
   "metadata": {},
   "source": [
    "<div class=\"alert alert-block alert-info\">    \n",
    "<b> Pregunta: </b>\n",
    "    \n",
    "* ¿Por qué la base tiene plazos negativos?\n",
    "\n",
    "\n",
    "</div>"
   ]
  },
  {
   "cell_type": "markdown",
   "id": "b3e69db0",
   "metadata": {},
   "source": [
    "<div class=\"alert-success\">\n",
    "<b> Respuesta: </b>\n",
    "    \n",
    "</div>"
   ]
  },
  {
   "cell_type": "markdown",
   "id": "3cffd7e7",
   "metadata": {
    "id": "3cffd7e7"
   },
   "source": [
    "* 4.1.2 Meses entre la fecha de otorgamiento y vencimiento.\n",
    "* Revisar id \"2137131-10114140435         -4755-2019-02-22 00:00:00\""
   ]
  },
  {
   "cell_type": "code",
   "execution_count": 123,
   "id": "4b1580d5",
   "metadata": {
    "id": "4b1580d5"
   },
   "outputs": [],
   "source": [
    "credito_dec['cuenta_meses'] = credito_dec['fecha_vencimiento']- credito_dec['fecha_otorgamiento']"
   ]
  },
  {
   "cell_type": "code",
   "execution_count": 124,
   "id": "c15d4d4b",
   "metadata": {
    "id": "c15d4d4b"
   },
   "outputs": [],
   "source": [
    "credito_dec['cuenta_meses'] = credito_dec['cuenta_meses']/np.timedelta64(1, 'M')"
   ]
  },
  {
   "cell_type": "code",
   "execution_count": 125,
   "id": "8b586349",
   "metadata": {
    "id": "8b586349",
    "outputId": "4ac6de10-b9dc-4203-9c08-eb92b59c1030"
   },
   "outputs": [
    {
     "data": {
      "text/plain": [
       "60.0     1742\n",
       "36.0     1390\n",
       "120.0    1107\n",
       "48.0     1025\n",
       "180.0     793\n",
       "         ... \n",
       "158.0       1\n",
       "239.0       1\n",
       "31.0        1\n",
       "73.0        1\n",
       "86.0        1\n",
       "Name: cuenta_meses, Length: 95, dtype: int64"
      ]
     },
     "execution_count": 125,
     "metadata": {},
     "output_type": "execute_result"
    }
   ],
   "source": [
    "credito_dec['cuenta_meses'] = credito_dec['cuenta_meses'].round()\n",
    "credito_dec['cuenta_meses'].value_counts()"
   ]
  },
  {
   "cell_type": "code",
   "execution_count": 126,
   "id": "95b5a24f",
   "metadata": {
    "id": "95b5a24f",
    "outputId": "c5ba640e-96a0-41a5-9ae7-497eefc86ffe"
   },
   "outputs": [
    {
     "name": "stdout",
     "output_type": "stream",
     "text": [
      "Número de casos con diferencia entre fecha de vencimiento y fecha de otorgamiento negativo 3\n",
      "Número de casos con diferencia entre fecha de vencimiento y fecha de otorgamiento iguales a cero 0\n"
     ]
    }
   ],
   "source": [
    "print('Número de casos con diferencia entre fecha de vencimiento y fecha de otorgamiento negativo '\n",
    "      + str(credito_dec['cuenta_meses'].loc[credito_dec['cuenta_meses']<0].count().sum()))\n",
    "print('Número de casos con la misma fecha de vencimiento y fecha de otorgamiento '\n",
    "      + str(credito_dec['cuenta_meses'].loc[credito_dec['cuenta_meses']==0].count().sum()))"
   ]
  },
  {
   "cell_type": "code",
   "execution_count": 131,
   "id": "90d7234a",
   "metadata": {},
   "outputs": [
    {
     "name": "stdout",
     "output_type": "stream",
     "text": [
      "valor mínimo de la variable plazo -1056.0 y el mayor valor es 263.0\n",
      "Casos de periodos negativos 3\n"
     ]
    }
   ],
   "source": [
    "print('valor mínimo de la variable plazo ' + str(min(credito_dec['cuenta_meses']))+ ' y el mayor valor es '+ str(max(credito_dec['cuenta_meses'])))\n",
    "print('Casos de periodos negativos '+ str(len(credito_dec.loc[credito_dec['cuenta_meses']<=0])))"
   ]
  },
  {
   "cell_type": "code",
   "execution_count": null,
   "id": "d59206ad",
   "metadata": {
    "id": "d59206ad"
   },
   "outputs": [],
   "source": [
    "credito_dec.sort_values(by='cuenta_meses', ascending=True, inplace=True)\n",
    "print(min(credito_dec['cuenta_meses']))"
   ]
  },
  {
   "cell_type": "code",
   "execution_count": null,
   "id": "27fe2cf2",
   "metadata": {
    "id": "27fe2cf2",
    "outputId": "bad361fd-3717-40bb-e586-1d2432de468a"
   },
   "outputs": [
    {
     "data": {
      "text/plain": [
       "count    10591.000000\n",
       "mean        71.371542\n",
       "std         53.987808\n",
       "min      -1056.000000\n",
       "25%         36.000000\n",
       "50%         60.000000\n",
       "75%         96.000000\n",
       "max        263.000000\n",
       "Name: cuenta_meses, dtype: float64"
      ]
     },
     "execution_count": 208,
     "metadata": {},
     "output_type": "execute_result"
    }
   ],
   "source": [
    "credito_dec['cuenta_meses'].describe()"
   ]
  },
  {
   "cell_type": "markdown",
   "id": "a97ffa66",
   "metadata": {
    "id": "a97ffa66"
   },
   "source": [
    "* 4.1.4 Comparación plazo y cuenta_meses\n",
    "* Definimos un criterio de 1 mes de diferencia por los redondeos"
   ]
  },
  {
   "cell_type": "code",
   "execution_count": null,
   "id": "0aec9f05",
   "metadata": {
    "id": "0aec9f05"
   },
   "outputs": [],
   "source": [
    "credito_dec['dif_plazos'] = credito_dec['cuenta_meses'] - credito_dec['plazo']"
   ]
  },
  {
   "cell_type": "code",
   "execution_count": null,
   "id": "3d8ccf14",
   "metadata": {
    "id": "3d8ccf14",
    "outputId": "6741ea9c-1ee6-4a4a-9cda-196f6e9590cf"
   },
   "outputs": [
    {
     "data": {
      "text/plain": [
       " 0.0    10510\n",
       " 1.0       64\n",
       "-1.0       17\n",
       "Name: dif_plazos, dtype: int64"
      ]
     },
     "execution_count": 151,
     "metadata": {},
     "output_type": "execute_result"
    }
   ],
   "source": [
    "credito_dec['dif_plazos'].value_counts()"
   ]
  },
  {
   "cell_type": "markdown",
   "id": "cc4a9d56",
   "metadata": {
    "id": "cc4a9d56"
   },
   "source": [
    "* 4.1.5 Variación plazo en ID_UNICO_CRED_str"
   ]
  },
  {
   "cell_type": "code",
   "execution_count": 143,
   "id": "68addeb4",
   "metadata": {},
   "outputs": [
    {
     "data": {
      "text/plain": [
       "count     10532.000000\n",
       "mean        417.264639\n",
       "std        6095.163310\n",
       "min           0.000000\n",
       "25%           0.000000\n",
       "50%           0.000000\n",
       "75%           0.000000\n",
       "max      106338.461538\n",
       "Name: var_plazo, dtype: float64"
      ]
     },
     "execution_count": 143,
     "metadata": {},
     "output_type": "execute_result"
    }
   ],
   "source": [
    "credito_dec['var_plazo'].describe()"
   ]
  },
  {
   "cell_type": "code",
   "execution_count": 139,
   "id": "8552af0b",
   "metadata": {
    "id": "8552af0b",
    "outputId": "62346529-6320-4173-e1ab-d7275f484c25"
   },
   "outputs": [
    {
     "name": "stdout",
     "output_type": "stream",
     "text": [
      "0.100     0.000000\n",
      "0.500     0.000000\n",
      "0.885     0.033333\n",
      "0.950    32.116959\n",
      "Name: var_plazo, dtype: float64\n"
     ]
    }
   ],
   "source": [
    "credito_dec['var_plazo'] = credito_dec.groupby('ID_UNICO_CRED_str')['plazo'].transform('var')\n",
    "print(credito_dec['var_plazo'].quantile([0.1, 0.5, 0.885, 0.95]))"
   ]
  },
  {
   "cell_type": "code",
   "execution_count": 171,
   "id": "5b92c26e",
   "metadata": {},
   "outputs": [
    {
     "name": "stdout",
     "output_type": "stream",
     "text": [
      "Intervalo de confianza varianza plazo (95%):  [ 0.         92.61330049]\n",
      "Intervalo de confianza varianza plazo (90%):  [ 0.         32.11695906]\n",
      "Intervalo de confianza varianza plazo (80%):  [0.         1.35177866]\n",
      "utilizamos como referencia el limite superior del intervalo de confianza al 80%1.351778656126475\n"
     ]
    }
   ],
   "source": [
    "IC_var = np.percentile(credito_dec['var_plazo'].loc[credito_dec['var_plazo']>=0], [2.5, 97.5])   \n",
    "print('Intervalo de confianza varianza plazo (95%): ',IC_var)    \n",
    "IC_var_90 = np.percentile(credito_dec['var_plazo'].loc[credito_dec['var_plazo']>=0], [5, 95])   \n",
    "print('Intervalo de confianza varianza plazo (90%): ',IC_var_90)    \n",
    "IC_var_80 = np.percentile(credito_dec['var_plazo'].loc[credito_dec['var_plazo']>=0], [10, 90])   \n",
    "print('Intervalo de confianza varianza plazo (80%): ',IC_var_80) \n",
    "print('utilizamos como referencia el limite superior del intervalo de confianza al 80%' + str(IC_var_80[1]))"
   ]
  },
  {
   "cell_type": "code",
   "execution_count": 188,
   "id": "7c5011bc",
   "metadata": {},
   "outputs": [
    {
     "data": {
      "image/png": "[encoded data removed]",
      "text/plain": [
       "<Figure size 400x400 with 1 Axes>"
      ]
     },
     "metadata": {},
     "output_type": "display_data"
    }
   ],
   "source": [
    "fig=plt.figure(figsize=(4,4))\n",
    "ax=fig.add_subplot(111)\n",
    "\n",
    "bins=np.arange(0,100,5)\n",
    "n,bins,patches=ax.hist(credito_dec['var_plazo'].loc[credito_dec['var_plazo']>IC_var_80[1]],bins=bins,\n",
    "                       histtype='bar',ec='darkblue',fc='lightblue',density=True)\n",
    "ax.set_title('Histograma varianza plazos mayores el límite superior del IC al 80%', fontsize=10)\n",
    "ax.set_xlabel('Varianza del plazo')\n",
    "plt.show()"
   ]
  },
  {
   "cell_type": "code",
   "execution_count": 192,
   "id": "9851cc13",
   "metadata": {
    "id": "9851cc13"
   },
   "outputs": [
    {
     "name": "stdout",
     "output_type": "stream",
     "text": [
      "1046\n"
     ]
    }
   ],
   "source": [
    "print(len(credito_dec['var_plazo'].loc[credito_dec['var_plazo']>IC_var_80[1]]))"
   ]
  },
  {
   "cell_type": "code",
   "execution_count": 195,
   "id": "8231020f",
   "metadata": {
    "id": "8231020f",
    "outputId": "eaa7b136-2b45-4609-a55b-7d259a0d71f6"
   },
   "outputs": [
    {
     "name": "stdout",
     "output_type": "stream",
     "text": [
      "Observaciones con variación en plazo 1235\n",
      "Número de identificadors únicos con variación en plazo 54\n"
     ]
    }
   ],
   "source": [
    "print('Observaciones con variación en plazo ' + str(credito_dec['var_plazo'].loc[credito_dec['var_plazo']>0].count()))\n",
    "print('Número de identificadors únicos con variación en plazo ' + str(credito_dec['ID_UNICO_CRED_str'].loc[credito_dec['var_plazo']>0].nunique()))"
   ]
  },
  {
   "cell_type": "code",
   "execution_count": 203,
   "id": "1d33bcb9",
   "metadata": {},
   "outputs": [
    {
     "data": {
      "text/plain": [
       "4151      945-000780121082        -4540-2019-10-28 00:00:00\n",
       "4152      945-000780121082        -4540-2019-10-28 00:00:00\n",
       "4153      945-000780121082        -4540-2019-10-28 00:00:00\n",
       "4154      945-000780121082        -4540-2019-10-28 00:00:00\n",
       "4155      945-000780121082        -4540-2019-10-28 00:00:00\n",
       "                                ...                        \n",
       "392465    39715-99-401-142733       -4715-2019-10-23 00:...\n",
       "392466    39715-99-401-142733       -4715-2019-10-23 00:...\n",
       "392467    39715-99-401-142733       -4715-2019-10-23 00:...\n",
       "392468    39715-99-401-142733       -4715-2019-10-23 00:...\n",
       "392469    39715-99-401-142733       -4715-2019-10-23 00:...\n",
       "Name: ID_UNICO_CRED_str, Length: 100, dtype: object"
      ]
     },
     "execution_count": 203,
     "metadata": {},
     "output_type": "execute_result"
    }
   ],
   "source": [
    "credito_dec.loc[credito_dec['var_plazo']>0].head(100)\n",
    "credito_dec['ID_UNICO_CRED_str'].loc[credito_dec['var_plazo']>0].head(100)\n"
   ]
  },
  {
   "cell_type": "markdown",
   "id": "e22ad3a9",
   "metadata": {},
   "source": [
    "<div class=\"alert alert-block alert-info\">    \n",
    "<b> Pregunta: </b>\n",
    "    \n",
    "* ¿A qué se deben las varianzas en el plazo?\n",
    "\n",
    "\n",
    "</div>"
   ]
  },
  {
   "cell_type": "markdown",
   "id": "f981ddd1",
   "metadata": {},
   "source": [
    "<div class=\"alert-success\">\n",
    "<b> Respuesta: </b>\n",
    "    \n",
    "</div>"
   ]
  },
  {
   "cell_type": "markdown",
   "id": "445301c2",
   "metadata": {
    "id": "445301c2"
   },
   "source": [
    "* Si el ID_UNICO_CRED_str tiene sólo una observación la varianza arroja nulo.\n",
    "* Los identificamos y luego les asignamos un valor de 0. En el caso de los crédutos decrecientes de personas jurídicas no hay observaciones únicas. Para otras bases y otraos países hay que definir si los mantenemos o no en la base de datos  "
   ]
  },
  {
   "cell_type": "code",
   "execution_count": 193,
   "id": "9f25feef",
   "metadata": {
    "id": "9f25feef",
    "outputId": "c5865681-1dbb-4ca3-e205-bc054b3a10ce"
   },
   "outputs": [
    {
     "name": "stdout",
     "output_type": "stream",
     "text": [
      "Observaciones únicas 59\n"
     ]
    }
   ],
   "source": [
    "print('Observaciones únicas ' + str(credito_dec['var_plazo'].isnull().sum()))\n",
    "credito_dec['var_plazo'].fillna(0, inplace=True)"
   ]
  },
  {
   "cell_type": "code",
   "execution_count": null,
   "id": "ff6708e7",
   "metadata": {
    "id": "ff6708e7",
    "outputId": "d3cdaa3f-02af-464f-9827-b08f5ebcc36b"
   },
   "outputs": [
    {
     "data": {
      "text/plain": [
       "13638609    26\n",
       "13638610    26\n",
       "5640302     21\n",
       "14117601     2\n",
       "14178962     2\n",
       "            ..\n",
       "2638002     24\n",
       "2638003     24\n",
       "2638020     24\n",
       "2638015     24\n",
       "2638012     24\n",
       "Name: N, Length: 10591, dtype: int64"
      ]
     },
     "execution_count": 200,
     "metadata": {},
     "output_type": "execute_result"
    }
   ],
   "source": [
    "credito_dec['N']"
   ]
  },
  {
   "cell_type": "code",
   "execution_count": null,
   "id": "393458c0",
   "metadata": {
    "id": "393458c0",
    "outputId": "d50b7a2e-a64f-40da-ab84-6f072bc0d15b"
   },
   "outputs": [
    {
     "data": {
      "text/plain": [
       "24"
      ]
     },
     "execution_count": 214,
     "metadata": {},
     "output_type": "execute_result"
    }
   ],
   "source": [
    "credito_dec['ID_UNICO_CRED_str'].loc[credito_dec['cuenta_meses']<=1].count()"
   ]
  },
  {
   "cell_type": "code",
   "execution_count": null,
   "id": "e62ddfbe",
   "metadata": {
    "id": "e62ddfbe",
    "outputId": "76f99f51-129d-470b-a8d1-edc7b39573f2"
   },
   "outputs": [
    {
     "data": {
      "text/plain": [
       "81"
      ]
     },
     "execution_count": 220,
     "metadata": {},
     "output_type": "execute_result"
    }
   ],
   "source": [
    "credito_dec['ID_UNICO_CRED_str'].loc[credito_dec['dif_plazos']!=0].count()"
   ]
  },
  {
   "cell_type": "code",
   "execution_count": null,
   "id": "2c651a37",
   "metadata": {
    "id": "2c651a37",
    "outputId": "f348d615-5bb9-4bd2-f211-1f5b11372098"
   },
   "outputs": [
    {
     "data": {
      "text/plain": [
       "1235"
      ]
     },
     "execution_count": 223,
     "metadata": {},
     "output_type": "execute_result"
    }
   ],
   "source": [
    "credito_dec['ID_UNICO_CRED_str'].loc[credito_dec['var_plazo']>0].count()"
   ]
  },
  {
   "cell_type": "markdown",
   "id": "e87c874e",
   "metadata": {
    "id": "e87c874e"
   },
   "source": [
    "* 4.1.6 Archivo problemas con las fechas y plazo"
   ]
  },
  {
   "cell_type": "code",
   "execution_count": null,
   "id": "1ed9a70e",
   "metadata": {
    "id": "1ed9a70e"
   },
   "outputs": [],
   "source": [
    "credito_dec['probl_plazo']= np.where()"
   ]
  },
  {
   "cell_type": "code",
   "execution_count": null,
   "id": "a0af0be0",
   "metadata": {
    "id": "a0af0be0"
   },
   "outputs": [],
   "source": [
    "credito_dec['probl_plazo']= np.where(credito_dec['cuenta_meses']<1, 1,\n",
    "                                     np.where(credito_dec['cuenta_meses']==1, 1, 0))\n",
    "credito_dec['probl_plazo']=  np.where(credito_dec['dif_plazos']!=0, 1, credito_dec['probl_plazo'])\n",
    "\n",
    "credito_dec['probl_plazo']=  np.where(credito_dec['var_plazo'] >0 , 1, credito_dec['probl_plazo'])"
   ]
  },
  {
   "cell_type": "code",
   "execution_count": null,
   "id": "8d8f1308",
   "metadata": {
    "id": "8d8f1308",
    "outputId": "5c390b99-2634-4acd-ec58-960e96201b14"
   },
   "outputs": [
    {
     "data": {
      "text/plain": [
       "1328"
      ]
     },
     "execution_count": 264,
     "metadata": {},
     "output_type": "execute_result"
    }
   ],
   "source": [
    "credito_dec['probl_plazo'].sum()"
   ]
  },
  {
   "cell_type": "code",
   "execution_count": null,
   "id": "a69d029c",
   "metadata": {
    "id": "a69d029c",
    "outputId": "3a8082c1-c2b8-4583-e930-1bba3eec8d1b"
   },
   "outputs": [
    {
     "data": {
      "text/plain": [
       "count    10591.000000\n",
       "mean        71.371542\n",
       "std         53.987808\n",
       "min      -1056.000000\n",
       "25%         36.000000\n",
       "50%         60.000000\n",
       "75%         96.000000\n",
       "max        263.000000\n",
       "Name: cuenta_meses, dtype: float64"
      ]
     },
     "execution_count": 265,
     "metadata": {},
     "output_type": "execute_result"
    }
   ],
   "source": [
    "credito_dec['cuenta_meses'].describe()"
   ]
  },
  {
   "cell_type": "code",
   "execution_count": null,
   "id": "a521ba9d",
   "metadata": {
    "id": "a521ba9d",
    "outputId": "2a50e24e-6143-4c72-b1a5-39c0107de6bf"
   },
   "outputs": [
    {
     "data": {
      "text/plain": [
       "Text(0, 0.5, 'Distribución de la cantidad de días')"
      ]
     },
     "execution_count": 299,
     "metadata": {},
     "output_type": "execute_result"
    },
    {
     "data": {
      "image/png": "[encoded data removed]",
      "text/plain": [
       "<Figure size 500x500 with 1 Axes>"
      ]
     },
     "metadata": {},
     "output_type": "display_data"
    }
   ],
   "source": [
    "plt.figure(figsize=(5,5))\n",
    "sns.set_style('whitegrid')\n",
    "sns.kdeplot(credito_dec.loc[credito_dec['cuenta_meses']<=1]['cuenta_meses'], bw_method=0.5, bw_adjust=0.5)\n",
    "plt.title('Observaciones con fecha de otorgamiento posterior al vencimiento')\n",
    "plt.xlabel('Días de diferencia')\n",
    "plt.ylabel('Distribución de la cantidad de días')"
   ]
  },
  {
   "cell_type": "code",
   "execution_count": null,
   "id": "af268aa8",
   "metadata": {
    "id": "af268aa8",
    "outputId": "c31880c6-0697-4f94-8070-ca188d94912e"
   },
   "outputs": [
    {
     "data": {
      "image/png": "[encoded data removed]",
      "text/plain": [
       "<Figure size 640x480 with 1 Axes>"
      ]
     },
     "metadata": {},
     "output_type": "display_data"
    }
   ],
   "source": [
    "sns.set_style('whitegrid')\n",
    "sns.kdeplot(credito_dec.loc[credito_dec['var_plazo']>0]['var_plazo'], bw_method=0.5, bw_adjust=0.5)\n",
    "plt.title('Variancias')\n",
    "plt.xlabel('Varianza en plazos')\n",
    "plt.ylabel('Distribución de la varianzas positivas')\n",
    "plt.show()"
   ]
  },
  {
   "cell_type": "code",
   "execution_count": null,
   "id": "52cb2956",
   "metadata": {
    "id": "52cb2956"
   },
   "outputs": [],
   "source": [
    "probl_plazo = credito_dec[['ID_UNICO_CRED_str','probl_plazo']].loc[credito_dec['probl_plazo']==1]"
   ]
  },
  {
   "cell_type": "code",
   "execution_count": null,
   "id": "8aa611e2",
   "metadata": {
    "id": "8aa611e2"
   },
   "outputs": [],
   "source": [
    "probl_plazo = probl_plazo_id[['ID_UNICO_CRED_str']].copy()"
   ]
  },
  {
   "cell_type": "code",
   "execution_count": null,
   "id": "4a505914",
   "metadata": {
    "id": "4a505914"
   },
   "outputs": [],
   "source": [
    "probl_plazo_id = pd.merge(probl_plazo, base, how='left', on='ID_UNICO_CRED_str')"
   ]
  },
  {
   "cell_type": "code",
   "execution_count": null,
   "id": "4be9e88b",
   "metadata": {
    "id": "4be9e88b",
    "outputId": "f7b1bb8c-816a-447b-83ed-dbb7ff74abba"
   },
   "outputs": [
    {
     "data": {
      "text/html": [
       "<div>\n",
       "<style scoped>\n",
       "    .dataframe tbody tr th:only-of-type {\n",
       "        vertical-align: middle;\n",
       "    }\n",
       "\n",
       "    .dataframe tbody tr th {\n",
       "        vertical-align: top;\n",
       "    }\n",
       "\n",
       "    .dataframe thead th {\n",
       "        text-align: right;\n",
       "    }\n",
       "</style>\n",
       "<table border=\"1\" class=\"dataframe\">\n",
       "  <thead>\n",
       "    <tr style=\"text-align: right;\">\n",
       "      <th></th>\n",
       "      <th>ID_UNICO_CRED_str</th>\n",
       "      <th>idpersona</th>\n",
       "      <th>idpersona_str</th>\n",
       "      <th>ID_UNICO_CRED</th>\n",
       "      <th>periodo_informacion</th>\n",
       "      <th>peri_info_monthly</th>\n",
       "      <th>peri_info_y</th>\n",
       "      <th>peri_info_m</th>\n",
       "      <th>referencia_unica</th>\n",
       "      <th>id_acreedor</th>\n",
       "      <th>...</th>\n",
       "      <th>otorgante_publico_privado</th>\n",
       "      <th>regulada</th>\n",
       "      <th>tipo_entidad</th>\n",
       "      <th>ubicacion_geogrfica</th>\n",
       "      <th>obs_repetidas</th>\n",
       "      <th>periodo_informacion_100</th>\n",
       "      <th>peri_info_daily1</th>\n",
       "      <th>peri_info_dailylast</th>\n",
       "      <th>dup</th>\n",
       "      <th>var_plazo</th>\n",
       "    </tr>\n",
       "  </thead>\n",
       "  <tbody>\n",
       "    <tr>\n",
       "      <th>0</th>\n",
       "      <td>5748720-10214136852         -4755-2018-12-28 0...</td>\n",
       "      <td>5748720</td>\n",
       "      <td>5748720</td>\n",
       "      <td>13355185</td>\n",
       "      <td>201901</td>\n",
       "      <td>NaT</td>\n",
       "      <td>2019.0</td>\n",
       "      <td>19988200.0</td>\n",
       "      <td>10214136852</td>\n",
       "      <td>4755</td>\n",
       "      <td>...</td>\n",
       "      <td></td>\n",
       "      <td>Regulada</td>\n",
       "      <td>IMF</td>\n",
       "      <td></td>\n",
       "      <td>0</td>\n",
       "      <td>2019.010010</td>\n",
       "      <td>NaT</td>\n",
       "      <td>NaT</td>\n",
       "      <td>False</td>\n",
       "      <td>NaN</td>\n",
       "    </tr>\n",
       "    <tr>\n",
       "      <th>1</th>\n",
       "      <td>5748720-10214136852         -4755-2018-12-28 0...</td>\n",
       "      <td>5748720</td>\n",
       "      <td>5748720</td>\n",
       "      <td>13355185</td>\n",
       "      <td>201903</td>\n",
       "      <td>NaT</td>\n",
       "      <td>2019.0</td>\n",
       "      <td>19988400.0</td>\n",
       "      <td>10214136852</td>\n",
       "      <td>4755</td>\n",
       "      <td>...</td>\n",
       "      <td></td>\n",
       "      <td>Regulada</td>\n",
       "      <td>IMF</td>\n",
       "      <td></td>\n",
       "      <td>0</td>\n",
       "      <td>2019.030029</td>\n",
       "      <td>NaT</td>\n",
       "      <td>NaT</td>\n",
       "      <td>False</td>\n",
       "      <td>NaN</td>\n",
       "    </tr>\n",
       "    <tr>\n",
       "      <th>2</th>\n",
       "      <td>5748720-10214136852         -4755-2018-12-28 0...</td>\n",
       "      <td>5748720</td>\n",
       "      <td>5748720</td>\n",
       "      <td>13355185</td>\n",
       "      <td>202106</td>\n",
       "      <td>NaT</td>\n",
       "      <td>2021.0</td>\n",
       "      <td>20008500.0</td>\n",
       "      <td>10214136852</td>\n",
       "      <td>4755</td>\n",
       "      <td>...</td>\n",
       "      <td></td>\n",
       "      <td>Regulada</td>\n",
       "      <td>IMF</td>\n",
       "      <td></td>\n",
       "      <td>0</td>\n",
       "      <td>2021.060059</td>\n",
       "      <td>NaT</td>\n",
       "      <td>NaT</td>\n",
       "      <td>False</td>\n",
       "      <td>NaN</td>\n",
       "    </tr>\n",
       "    <tr>\n",
       "      <th>3</th>\n",
       "      <td>5748720-10214136852         -4755-2018-12-28 0...</td>\n",
       "      <td>5748720</td>\n",
       "      <td>5748720</td>\n",
       "      <td>13355185</td>\n",
       "      <td>202107</td>\n",
       "      <td>NaT</td>\n",
       "      <td>2021.0</td>\n",
       "      <td>20008600.0</td>\n",
       "      <td>10214136852</td>\n",
       "      <td>4755</td>\n",
       "      <td>...</td>\n",
       "      <td></td>\n",
       "      <td>Regulada</td>\n",
       "      <td>IMF</td>\n",
       "      <td></td>\n",
       "      <td>0</td>\n",
       "      <td>2021.069946</td>\n",
       "      <td>NaT</td>\n",
       "      <td>NaT</td>\n",
       "      <td>False</td>\n",
       "      <td>NaN</td>\n",
       "    </tr>\n",
       "    <tr>\n",
       "      <th>4</th>\n",
       "      <td>5748720-10214136852         -4755-2018-12-28 0...</td>\n",
       "      <td>5748720</td>\n",
       "      <td>5748720</td>\n",
       "      <td>13355185</td>\n",
       "      <td>202108</td>\n",
       "      <td>NaT</td>\n",
       "      <td>2021.0</td>\n",
       "      <td>20008700.0</td>\n",
       "      <td>10214136852</td>\n",
       "      <td>4755</td>\n",
       "      <td>...</td>\n",
       "      <td></td>\n",
       "      <td>Regulada</td>\n",
       "      <td>IMF</td>\n",
       "      <td></td>\n",
       "      <td>0</td>\n",
       "      <td>2021.079956</td>\n",
       "      <td>NaT</td>\n",
       "      <td>NaT</td>\n",
       "      <td>False</td>\n",
       "      <td>NaN</td>\n",
       "    </tr>\n",
       "  </tbody>\n",
       "</table>\n",
       "<p>5 rows × 46 columns</p>\n",
       "</div>"
      ],
      "text/plain": [
       "                                   ID_UNICO_CRED_str  idpersona idpersona_str  \\\n",
       "0  5748720-10214136852         -4755-2018-12-28 0...    5748720       5748720   \n",
       "1  5748720-10214136852         -4755-2018-12-28 0...    5748720       5748720   \n",
       "2  5748720-10214136852         -4755-2018-12-28 0...    5748720       5748720   \n",
       "3  5748720-10214136852         -4755-2018-12-28 0...    5748720       5748720   \n",
       "4  5748720-10214136852         -4755-2018-12-28 0...    5748720       5748720   \n",
       "\n",
       "   ID_UNICO_CRED  periodo_informacion peri_info_monthly  peri_info_y  \\\n",
       "0       13355185               201901               NaT       2019.0   \n",
       "1       13355185               201903               NaT       2019.0   \n",
       "2       13355185               202106               NaT       2021.0   \n",
       "3       13355185               202107               NaT       2021.0   \n",
       "4       13355185               202108               NaT       2021.0   \n",
       "\n",
       "   peri_info_m      referencia_unica  id_acreedor  ...  \\\n",
       "0   19988200.0  10214136852                  4755  ...   \n",
       "1   19988400.0  10214136852                  4755  ...   \n",
       "2   20008500.0  10214136852                  4755  ...   \n",
       "3   20008600.0  10214136852                  4755  ...   \n",
       "4   20008700.0  10214136852                  4755  ...   \n",
       "\n",
       "  otorgante_publico_privado  regulada tipo_entidad  ubicacion_geogrfica  \\\n",
       "0                            Regulada          IMF                        \n",
       "1                            Regulada          IMF                        \n",
       "2                            Regulada          IMF                        \n",
       "3                            Regulada          IMF                        \n",
       "4                            Regulada          IMF                        \n",
       "\n",
       "  obs_repetidas periodo_informacion_100  peri_info_daily1  \\\n",
       "0             0             2019.010010               NaT   \n",
       "1             0             2019.030029               NaT   \n",
       "2             0             2021.060059               NaT   \n",
       "3             0             2021.069946               NaT   \n",
       "4             0             2021.079956               NaT   \n",
       "\n",
       "   peri_info_dailylast    dup var_plazo  \n",
       "0                  NaT  False       NaN  \n",
       "1                  NaT  False       NaN  \n",
       "2                  NaT  False       NaN  \n",
       "3                  NaT  False       NaN  \n",
       "4                  NaT  False       NaN  \n",
       "\n",
       "[5 rows x 46 columns]"
      ]
     },
     "execution_count": 283,
     "metadata": {},
     "output_type": "execute_result"
    }
   ],
   "source": [
    "probl_plazo_id.head()"
   ]
  },
  {
   "cell_type": "code",
   "execution_count": null,
   "id": "c8ae8226",
   "metadata": {
    "id": "c8ae8226"
   },
   "outputs": [],
   "source": [
    "probl_plazo_id.to_csv(str(data)+'EFX F3 $pais 010 010 Limpieza Base - dif plazo y fechas venc-otorg.csv', index=False) "
   ]
  },
  {
   "cell_type": "code",
   "execution_count": null,
   "id": "cdd5e03e",
   "metadata": {
    "id": "cdd5e03e"
   },
   "outputs": [],
   "source": [
    "del probl_plazo_id\n",
    "del probl_plazo"
   ]
  },
  {
   "cell_type": "markdown",
   "id": "fd7bc67d",
   "metadata": {
    "id": "fd7bc67d"
   },
   "source": [
    "* 4.2 Monto del crédito"
   ]
  },
  {
   "cell_type": "code",
   "execution_count": null,
   "id": "e327ec25",
   "metadata": {
    "id": "e327ec25",
    "outputId": "b48fcf13-8e5c-4736-f289-7fe168e5c337"
   },
   "outputs": [
    {
     "data": {
      "image/png": "[encoded data removed]",
      "text/plain": [
       "<Figure size 500x500 with 1 Axes>"
      ]
     },
     "metadata": {},
     "output_type": "display_data"
    }
   ],
   "source": [
    "plt.figure(figsize=(5,5))\n",
    "sns.boxplot(x='calificacion_riesgo', y='monto', data=credito_dec.loc[credito_dec['monto']<800000], palette=\"Reds\").set(\n",
    "    xlabel='Clasificación de Riesgo', ylabel='Monto del crédito',\n",
    "    title='Box plot monto de los créditos por clasificación de riesgo')\n",
    "plt.show()"
   ]
  },
  {
   "cell_type": "code",
   "execution_count": null,
   "id": "25a0fa04",
   "metadata": {
    "id": "25a0fa04",
    "outputId": "63020da1-ce4c-40a5-f956-aded2b65d756"
   },
   "outputs": [
    {
     "data": {
      "image/png": "[encoded data removed]",
      "text/plain": [
       "<Figure size 500x500 with 1 Axes>"
      ]
     },
     "metadata": {},
     "output_type": "display_data"
    }
   ],
   "source": [
    "plt.figure(figsize=(5,5))\n",
    "sns.boxplot(x='tamanio_empresa', y='monto', data=credito_dec.loc[credito_dec['monto']<800000], palette=\"Greens\").set(\n",
    "    xlabel='Tamaño de la empresa', ylabel='Monto del crédito',\n",
    "    title='Box plot monto de los créditos por tamaño de la empresa')\n",
    "plt.show()"
   ]
  },
  {
   "cell_type": "markdown",
   "id": "fff3c440",
   "metadata": {
    "id": "fff3c440"
   },
   "source": [
    "* 4.2.1 Montos nulos o iguales a 0"
   ]
  },
  {
   "cell_type": "code",
   "execution_count": null,
   "id": "7e999e85",
   "metadata": {
    "id": "7e999e85",
    "outputId": "dc46a7de-4ff9-41ed-d874-ce9acea5784f"
   },
   "outputs": [
    {
     "name": "stdout",
     "output_type": "stream",
     "text": [
      "Número de casos con monto negativo 0\n",
      "Número de casos con monto igual a 0 48\n"
     ]
    }
   ],
   "source": [
    "print('Número de casos con monto negativo '\n",
    "      + str(credito_dec['monto'].loc[credito_dec['monto']<0].count().sum()))\n",
    "print('Número de casos con monto igual a 0 '\n",
    "      + str(credito_dec['monto'].loc[credito_dec['monto']==0].count().sum()))"
   ]
  },
  {
   "cell_type": "markdown",
   "id": "f5009525",
   "metadata": {
    "id": "f5009525"
   },
   "source": [
    "* 4.2.2 Variación monto por identificador\n",
    "* Revisar \"1000174362-09201900017600      -6358-2020-01-17 00:00:00\""
   ]
  },
  {
   "cell_type": "code",
   "execution_count": null,
   "id": "6a295175",
   "metadata": {
    "id": "6a295175",
    "outputId": "1b6695dd-dd30-4f37-a3ef-65e894d0e990"
   },
   "outputs": [
    {
     "name": "stdout",
     "output_type": "stream",
     "text": [
      "0.50    0.000000e+00\n",
      "0.95    0.000000e+00\n",
      "0.99    1.914076e+08\n",
      "Name: var_monto, dtype: float64\n"
     ]
    }
   ],
   "source": [
    "credito_dec['var_monto'] = credito_dec.groupby('ID_UNICO_CRED_str')['monto'].transform('var')\n",
    "print(credito_dec['var_monto'].quantile([0.5, 0.95, 0.99]))"
   ]
  },
  {
   "cell_type": "code",
   "execution_count": null,
   "id": "71b2b9e7",
   "metadata": {
    "id": "71b2b9e7",
    "outputId": "6939bf40-62d8-4ce3-aa9b-c22946bf62fc"
   },
   "outputs": [
    {
     "name": "stdout",
     "output_type": "stream",
     "text": [
      "Montos con varianza positiva 518\n"
     ]
    }
   ],
   "source": [
    "print('Montos con varianza positiva ' + str(credito_dec['var_monto'].loc[credito_dec['var_monto']>0].count().sum()))"
   ]
  },
  {
   "cell_type": "code",
   "execution_count": null,
   "id": "880ef941",
   "metadata": {
    "id": "880ef941",
    "outputId": "1e4e766c-82b6-4f83-b891-c5a9b5dae3f7"
   },
   "outputs": [
    {
     "data": {
      "image/png": "[encoded data removed]",
      "text/plain": [
       "<Figure size 640x480 with 1 Axes>"
      ]
     },
     "metadata": {},
     "output_type": "display_data"
    }
   ],
   "source": [
    "sns.set_style('whitegrid')\n",
    "sns.kdeplot(credito_dec.loc[credito_dec['var_monto']>0]['var_monto'], bw_method=0.5, bw_adjust=0.5)\n",
    "plt.title('Variancias')\n",
    "plt.xlabel('Varianza en montos')\n",
    "plt.ylabel('Distribución de la varianzas positivas')\n",
    "plt.show()"
   ]
  },
  {
   "cell_type": "code",
   "execution_count": null,
   "id": "747ae480",
   "metadata": {
    "id": "747ae480",
    "outputId": "ed29dfe1-4f5d-4013-ddb2-8b3e2e0d7805"
   },
   "outputs": [
    {
     "name": "stdout",
     "output_type": "stream",
     "text": [
      "Observaciones únicas 59\n"
     ]
    }
   ],
   "source": [
    "print('Observaciones únicas ' + str(credito_dec['var_plazo'].isnull().sum()))\n",
    "credito_dec['N'].loc[credito_dec['var_monto'].isnull()].value_counts()\n",
    "credito_dec['var_monto'].fillna(0, inplace=True)"
   ]
  },
  {
   "cell_type": "markdown",
   "id": "e730c78c",
   "metadata": {
    "id": "e730c78c"
   },
   "source": [
    "Los 59 valores con varianza nula se debe a que tienen una sola observación por identificador.\n",
    "* Definir un epsilon de tolerancia"
   ]
  },
  {
   "cell_type": "code",
   "execution_count": null,
   "id": "40f4947e",
   "metadata": {
    "id": "40f4947e"
   },
   "outputs": [],
   "source": [
    "credito_dec.sort_values(by=['ID_UNICO_CRED_str', 'periodo_informacion'], inplace=True)"
   ]
  },
  {
   "cell_type": "code",
   "execution_count": null,
   "id": "6ea7a331",
   "metadata": {
    "id": "6ea7a331"
   },
   "outputs": [],
   "source": [
    "credito_dec['dif_monto'] = credito_dec['monto'].diff()"
   ]
  },
  {
   "cell_type": "code",
   "execution_count": null,
   "id": "308ab617",
   "metadata": {
    "id": "308ab617"
   },
   "outputs": [],
   "source": [
    "credito_dec['n'] =  credito_dec.groupby(['ID_UNICO_CRED_str']).size().sort_index()\n"
   ]
  },
  {
   "cell_type": "code",
   "execution_count": null,
   "id": "70143bc6",
   "metadata": {
    "id": "70143bc6"
   },
   "outputs": [],
   "source": []
  },
  {
   "cell_type": "code",
   "execution_count": null,
   "id": "c1791e33",
   "metadata": {
    "id": "c1791e33"
   },
   "outputs": [],
   "source": []
  }
 ],
 "metadata": {
  "accelerator": "GPU",
  "colab": {
   "provenance": []
  },
  "gpuClass": "standard",
  "kernelspec": {
   "display_name": "Python 3 (ipykernel)",
   "language": "python",
   "name": "python3"
  },
  "language_info": {
   "codemirror_mode": {
    "name": "ipython",
    "version": 3
   },
   "file_extension": ".py",
   "mimetype": "text/x-python",
   "name": "python",
   "nbconvert_exporter": "python",
   "pygments_lexer": "ipython3",
   "version": "3.10.6"
  }
 },
 "nbformat": 4,
 "nbformat_minor": 5
}
